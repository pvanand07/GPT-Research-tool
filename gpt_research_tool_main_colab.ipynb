{
  "cells": [
    {
      "cell_type": "markdown",
      "metadata": {
        "id": "view-in-github",
        "colab_type": "text"
      },
      "source": [
        "<a href=\"https://colab.research.google.com/github/pvanand07/GPT-Research-tool/blob/master/gpt_research_tool_main_colab.ipynb\" target=\"_parent\"><img src=\"https://colab.research.google.com/assets/colab-badge.svg\" alt=\"Open In Colab\"/></a>"
      ]
    },
    {
      "cell_type": "code",
      "execution_count": 9,
      "metadata": {
        "id": "w9q7EL6s07kM"
      },
      "outputs": [],
      "source": [
        "!pip install -U google-generativeai -q\n",
        "# qdrant utilizes quantized models for fast inference on cpu\n",
        "!pip install qdrant-client[fastembed] -q"
      ]
    },
    {
      "cell_type": "code",
      "source": [
        "research_questions = [\n",
        "    \"Identify the industry in which Canoo ev operates, along with its size, growth rate, trends, and key players.\",\n",
        "    \"Analyze Canoo ev's main competitors, including their market share, products or services offered, pricing strategies, and marketing efforts.\",\n",
        "    \"Identify key trends in the ev market, including changes in consumer behavior, technological advancements, and shifts in the competitive landscape.\",\n",
        "    \"Gather information on Canoo ev's financial performance, including its revenue, profit margins, return on investment, and expense structure.\"\n",
        "]"
      ],
      "metadata": {
        "id": "rUuB-FlqFI_P"
      },
      "execution_count": 10,
      "outputs": []
    },
    {
      "cell_type": "code",
      "source": [
        "import nltk\n",
        "nltk.download('punkt')"
      ],
      "metadata": {
        "colab": {
          "base_uri": "https://localhost:8080/"
        },
        "id": "vSWviMpOPHZ-",
        "outputId": "c1b9bceb-a56d-46b1-b6ee-4e4bb1c35304"
      },
      "execution_count": 11,
      "outputs": [
        {
          "output_type": "stream",
          "name": "stderr",
          "text": [
            "[nltk_data] Downloading package punkt to /root/nltk_data...\n",
            "[nltk_data]   Package punkt is already up-to-date!\n"
          ]
        },
        {
          "output_type": "execute_result",
          "data": {
            "text/plain": [
              "True"
            ]
          },
          "metadata": {},
          "execution_count": 11
        }
      ]
    },
    {
      "cell_type": "code",
      "execution_count": 12,
      "metadata": {
        "id": "06c0Hntv6cpd"
      },
      "outputs": [],
      "source": [
        "from google.colab import userdata\n",
        "import requests\n",
        "from IPython.display import display\n",
        "from IPython.display import Markdown\n",
        "import pathlib\n",
        "import textwrap\n",
        "import google.generativeai as genai\n",
        "from googleapiclient.discovery import build\n",
        "from nltk.tokenize import sent_tokenize\n",
        "import ast\n",
        "import json\n",
        "from qdrant_client import QdrantClient\n",
        "from concurrent.futures import ThreadPoolExecutor\n",
        "from functools import partial\n",
        "import requests\n",
        "from bs4 import BeautifulSoup\n",
        "\n",
        "\n",
        "my_api_key = userdata.get('google_search_api') # Get your Google Search API key from here (free) (LIMIT:100 queries/day): https://developers.google.com/custom-search/v1/overview\n",
        "my_cse_id = userdata.get('cse_id') # Obtain your Custom Search Engine ID from here (free): https://programmablesearchengine.google.com/controlpanel/all\n",
        "GEMINI_API_KEY = userdata.get('gemini_api') # Get your GEMINI API key from here (free) (LIMIT:100 queries/hour) https://aistudio.google.com/app/apikey"
      ]
    },
    {
      "cell_type": "code",
      "execution_count": 13,
      "metadata": {
        "id": "a2ec4wx_ngCO"
      },
      "outputs": [],
      "source": [
        "def google_search(search_term, api_key, cse_id, **kwargs):\n",
        "    service = build(\"customsearch\", \"v1\", developerKey=api_key)\n",
        "    res = service.cse().list(q=search_term, cx=cse_id, **kwargs).execute()\n",
        "    return res\n",
        "\n",
        "def to_markdown(text):\n",
        "  text = text.replace('•', '  *')\n",
        "  return Markdown(textwrap.indent(text, '> ', predicate=lambda _: True))\n",
        "\n",
        "def ask_gemini(question, GEMINI_API_KEY):\n",
        "\n",
        "  genai.configure(api_key=GEMINI_API_KEY)\n",
        "  model = genai.GenerativeModel('gemini-pro')\n",
        "  response = model.generate_content(question)\n",
        "  display(to_markdown(response.text))\n",
        "\n",
        "  return response.text"
      ]
    },
    {
      "cell_type": "code",
      "execution_count": 14,
      "metadata": {
        "id": "Fvzch-kkz5bA"
      },
      "outputs": [],
      "source": [
        "def generate_search_queries_prompt(question, max_iterations=6):\n",
        "    \"\"\" Generates the search queries prompt for the given question.\n",
        "    Args: question (str): The question to generate the search queries prompt for\n",
        "    Returns: str: The search queries prompt for the given question\n",
        "    \"\"\"\n",
        "\n",
        "    return 'Follow the instructions'\\\n",
        "           f'1. Write {max_iterations} google search queries to search online that form an objective opinion from the following: \"{question}\"' \\\n",
        "           f'2. output only the list of search queries in the format: [\"query 1\", \"query 2\", ...].'\n",
        "\n",
        "\n",
        "def generate_report_prompt(question, context, report_format=\"apa\", total_words=1000):\n",
        "    \"\"\" Generates the report prompt for the given question and research summary.\n",
        "    Args: question (str): The question to generate the report prompt for\n",
        "            research_summary (str): The research summary to generate the report prompt for\n",
        "    Returns: str: The report prompt for the given question and research summary\n",
        "    \"\"\"\n",
        "\n",
        "    return f'Using the Information: \"\"\"{context}\"\"\"\\n\\n' \\\n",
        "           f'answer the following' \\\n",
        "           f'query : \"{question}\" in a detailed report --' \\\n",
        "           f\"with facts and numbers if available and a minimum of {total_words} words.\\n\" \\\n",
        "           f\"You MUST write the report in {report_format} format.\\n \""
      ]
    },
    {
      "cell_type": "code",
      "execution_count": 15,
      "metadata": {
        "colab": {
          "base_uri": "https://localhost:8080/",
          "height": 226
        },
        "id": "TpdcwPsh0MjW",
        "outputId": "3fa1647e-3db7-4b4d-b854-41c4bcfdd22f"
      },
      "outputs": [
        {
          "output_type": "display_data",
          "data": {
            "text/plain": [
              "<IPython.core.display.Markdown object>"
            ],
            "text/markdown": "> [\"Canoo ev industry\", \"Electric vehicle industry size\", \"Electric vehicle industry growth rate\", \"Electric vehicle industry trends\", \"Electric vehicle key players\", \"Canoo ev competitors\"]"
          },
          "metadata": {}
        },
        {
          "output_type": "display_data",
          "data": {
            "text/plain": [
              "<IPython.core.display.Markdown object>"
            ],
            "text/markdown": "> [\"Canoo EV competitors market share\", \"Canoo EV competitors products and services\", \"Canoo EV competitors pricing strategies\", \"Canoo EV competitors marketing efforts\", \"Comparative analysis of Canoo EV and its competitors\", \"Canoo EV competitive landscape\"]"
          },
          "metadata": {}
        },
        {
          "output_type": "display_data",
          "data": {
            "text/plain": [
              "<IPython.core.display.Markdown object>"
            ],
            "text/markdown": "> [\"EV market consumer behavior trends\", \"EV technology advancements\", \"EV competitive landscape shifts\", \"Electric vehicle industry outlook\", \"EV market analysis\", \"Future trends in the electric vehicle market\"]"
          },
          "metadata": {}
        },
        {
          "output_type": "display_data",
          "data": {
            "text/plain": [
              "<IPython.core.display.Markdown object>"
            ],
            "text/markdown": "> [\"Canoo ev revenue\", \"Canoo ev profit margin\", \"Canoo ev return on investment\", \"Canoo ev expense structure\", \"Canoo ev financial performance\", \"Canoo ev financial analysis\"]"
          },
          "metadata": {}
        }
      ],
      "source": [
        "def generate_search_queries(research_questions):\n",
        "  research_queries_dict ={}\n",
        "  for question in research_questions:\n",
        "    question_prompt = generate_search_queries_prompt(question)\n",
        "    research_queries_dict[question] = ask_gemini(question_prompt,GEMINI_API_KEY)\n",
        "\n",
        "  return research_queries_dict\n",
        "\n",
        "\n",
        "def generate_research_query_list(research_queries_dict):\n",
        "  # Convert Gemini output from string to list\n",
        "  research_queries_dict_list = {}\n",
        "  for question, research_queries in research_queries_dict.items():\n",
        "    if research_queries and research_queries.strip():  # Check if the input is not null or empty\n",
        "        try:\n",
        "            research_queries_dict_list[question] = ast.literal_eval(research_queries)\n",
        "\n",
        "        except SyntaxError or ValueError:\n",
        "            # If ast.literal_eval() fails due to syntax error, tokenize the string into sentences using NLTK\n",
        "            research_queries_dict_list[question] = sent_tokenize(research_queries)\n",
        "            if len(research_queries_dict_list[question]) == 1:\n",
        "              research_queries_dict_list[question] = research_queries.split('\\n')\n",
        "    else:\n",
        "        print(\"Input ask_gemini(question)-->research_queries is null or empty. Passing...\")\n",
        "\n",
        "  return research_queries_dict_list\n",
        "\n",
        "research_queries_dict = generate_search_queries(research_questions)\n",
        "research_queries_dict_list = generate_research_query_list(research_queries_dict)"
      ]
    },
    {
      "cell_type": "code",
      "execution_count": 16,
      "metadata": {
        "id": "Kr0WEoUmEuSV",
        "colab": {
          "base_uri": "https://localhost:8080/"
        },
        "outputId": "b43afd0d-13f2-4a57-bc5b-aecbd117d608"
      },
      "outputs": [
        {
          "output_type": "stream",
          "name": "stdout",
          "text": [
            "Dictionary saved as JSON file: research_links_google.json\n"
          ]
        }
      ],
      "source": [
        "def extract_data_from_google_search_results(research_queries_dict_list):\n",
        "# Using the search queries to perform google search and extract links\n",
        "  research_links_google = {}\n",
        "\n",
        "  for question, research_queries_list in research_queries_dict_list.items():\n",
        "    for research_query in research_queries_list:\n",
        "      research_links_google[research_query] = google_search(research_query, my_api_key, my_cse_id, num=2)\n",
        "\n",
        "  # Writing google search results dictionary to a JSON file\n",
        "  with open(\"research_links_google.json\", 'w') as json_file:\n",
        "      json.dump(research_links_google, json_file)\n",
        "\n",
        "  print(f\"Dictionary saved as JSON file: research_links_google.json\")\n",
        "\n",
        "  return research_links_google\n",
        "\n",
        "research_links_google = extract_data_from_google_search_results(research_queries_dict_list)"
      ]
    },
    {
      "cell_type": "code",
      "execution_count": 17,
      "metadata": {
        "id": "sPnEoIgiOBSC"
      },
      "outputs": [],
      "source": [
        "def extract_links(research_links_google):\n",
        "  # Load the search results from the JSON file\n",
        "  # File path to the JSON file\n",
        "  file_path = \"/content/research_links_google.json\"\n",
        "\n",
        "  # Loading JSON file as dictionary\n",
        "  with open(file_path, 'r') as json_file:\n",
        "      research_links_google1 = json.load(json_file)\n",
        "\n",
        "\n",
        "  topics_dict_list = [research_links_google[k] for k, v in research_links_google.items()] # 24 Topics x 2 URLS\n",
        "\n",
        "  links_list = []\n",
        "  for topic_dict in topics_dict_list:\n",
        "    try:\n",
        "      for item in topic_dict['items']:\n",
        "        links_list.append(item['link'])\n",
        "    except:\n",
        "      pass\n",
        "\n",
        "  return links_list\n",
        "\n",
        "links_list = extract_links(research_links_google)"
      ]
    },
    {
      "cell_type": "code",
      "execution_count": 18,
      "metadata": {
        "id": "8xjsI2LW6VzK"
      },
      "outputs": [],
      "source": [
        "class Scraper:\n",
        "    \"\"\"\n",
        "    Scraper class to extract the content from web page links.\n",
        "    \"\"\"\n",
        "    def __init__(self, urls, user_agent):\n",
        "        \"\"\"\n",
        "        Initialize the Scraper class.\n",
        "        Args:\n",
        "            urls (list): List of URLs to scrape.\n",
        "            user_agent (str): User agent string for the HTTP header to simulate a browser request.\n",
        "        \"\"\"\n",
        "        self.urls = urls\n",
        "        self.session = requests.Session()\n",
        "        self.session.headers.update({\n",
        "            \"User-Agent\": user_agent\n",
        "        })\n",
        "\n",
        "    def run(self):\n",
        "        \"\"\"\n",
        "        Extracts the content from the provided URLs.\n",
        "        Returns:\n",
        "            list: A list of dictionaries with URL and its corresponding raw content.\n",
        "        \"\"\"\n",
        "        partial_extract = partial(self.extract_data_from_link, session=self.session)\n",
        "        with ThreadPoolExecutor(max_workers=20) as executor:\n",
        "            contents = executor.map(partial_extract, self.urls)\n",
        "        res = [content for content in contents if content['raw_content']]\n",
        "        return res\n",
        "\n",
        "    def extract_data_from_link(self, link, session):\n",
        "        \"\"\"\n",
        "        Extracts the data from a single web page link.\n",
        "        Args:\n",
        "            link (str): URL to scrape.\n",
        "            session (requests.Session): Session object for making requests.\n",
        "        Returns:\n",
        "            dict: A dictionary with URL and its raw content.\n",
        "        \"\"\"\n",
        "        try:\n",
        "            response = session.get(link, timeout=4)\n",
        "            if response.status_code == 200:\n",
        "                soup = BeautifulSoup(response.content, 'lxml', from_encoding=response.encoding)\n",
        "                raw_content = self.scrape_text_with_bs(soup)\n",
        "                if len(raw_content) < 100:\n",
        "                    return {'url': link, 'raw_content': None}\n",
        "                return {'url': link, 'raw_content': raw_content}\n",
        "            return {'url': link, 'raw_content': None}\n",
        "        except Exception as e:\n",
        "            return {'url': link, 'raw_content': None}\n",
        "\n",
        "    def scrape_text_with_bs(self, soup):\n",
        "        \"\"\"\n",
        "        Extracts and cleans text content from a BeautifulSoup object.\n",
        "        Args:\n",
        "            soup (BeautifulSoup): BeautifulSoup object of a web page.\n",
        "        Returns:\n",
        "            str: Cleaned text content from the web page.\n",
        "        \"\"\"\n",
        "        for script_or_style in soup([\"script\", \"style\"]):\n",
        "            script_or_style.extract()  # Remove script and style elements\n",
        "\n",
        "        text = soup.get_text(separator=\"\\n\")\n",
        "        lines = (line.strip() for line in text.splitlines())\n",
        "        chunks = (phrase.strip() for line in lines for phrase in line.split(\"  \"))\n",
        "        content = \"\\n\".join(chunk for chunk in chunks if chunk)\n",
        "        return content\n"
      ]
    },
    {
      "cell_type": "code",
      "execution_count": 19,
      "metadata": {
        "id": "M0z1j4E26QGj"
      },
      "outputs": [],
      "source": [
        "def extract_and_store_data(links_list, user_agent, output_file):\n",
        "    \"\"\"\n",
        "    Extracts data from the provided URLs and stores the data as a JSON file.\n",
        "\n",
        "    Args:\n",
        "        research_links_google_list (dict): A dictionary with keys as topics and values as lists of URLs.\n",
        "        user_agent (str): User agent string for HTTP requests.\n",
        "        output_file (str): Path to the output JSON file.\n",
        "    \"\"\"\n",
        "\n",
        "    # Initialize the Scraper with URLs and a user agent\n",
        "    scraper = Scraper(links_list, user_agent)\n",
        "    # Extract data\n",
        "    data = scraper.run()\n",
        "\n",
        "    data_dict = {}\n",
        "\n",
        "    for item in data:\n",
        "      data_dict[item['url']] = item['raw_content']\n",
        "    data_dict\n",
        "\n",
        "    # Write the data to a JSON file\n",
        "    with open(output_file, 'w', encoding='utf-8') as f:\n",
        "        json.dump(data_dict, f, ensure_ascii=False, indent=4)\n",
        "\n",
        "# Usage\n",
        "user_agent = 'Mozilla/5.0 (Windows NT 10.0; Win64; x64) AppleWebKit/537.36 (KHTML, like Gecko) Chrome/58.0.3029.110 Safari/537.3'\n",
        "output_file = 'extracted_data.json'  # Specify the path to the output file\n",
        "\n",
        "# Call the function with the provided research links, user agent, and output file path\n",
        "extract_and_store_data(links_list, user_agent, output_file)\n"
      ]
    },
    {
      "cell_type": "code",
      "execution_count": 20,
      "metadata": {
        "colab": {
          "base_uri": "https://localhost:8080/"
        },
        "id": "nXTegNjD9HGP",
        "outputId": "579eefab-00ef-4dc7-9596-6c29761b2932"
      },
      "outputs": [
        {
          "output_type": "execute_result",
          "data": {
            "text/plain": [
              "29"
            ]
          },
          "metadata": {},
          "execution_count": 20
        }
      ],
      "source": [
        "import json\n",
        "\n",
        "# File path to the JSON file\n",
        "file_path = \"/content/extracted_data.json\"\n",
        "\n",
        "# Loading JSON file as dictionary\n",
        "with open(file_path, 'r') as json_file:\n",
        "    extracted_data = json.load(json_file)\n",
        "len(extracted_data)"
      ]
    },
    {
      "cell_type": "code",
      "source": [
        "%%time\n",
        "def add_to_qdrant(extracted_data):\n",
        "\n",
        "  # Initialize the Qdrant client with in-memory storage for demonstration purposes\n",
        "  client = QdrantClient(\":memory:\")  # Adjust the host and port if necessary\n",
        "  client.set_model(\"sentence-transformers/all-MiniLM-L6-v2\")\n",
        "\n",
        "  # Assuming `extracted_data` is a pre-defined dictionary with your data\n",
        "  documents = []\n",
        "  metadatas = []\n",
        "  ids = []\n",
        "\n",
        "  # Prepare your documents and metadata\n",
        "  for url, data in extracted_data.items():\n",
        "    sentences = data.split('\\n')\n",
        "\n",
        "    # Here you might need to adjust how you handle IDs to ensure they are unique integers\n",
        "    # Qdrant currently requires numeric IDs\n",
        "    for i, sentence in enumerate(sentences):\n",
        "        documents.append(sentence)\n",
        "        metadatas.append({\"url\": url+str(i)})\n",
        "        ids.append(hash(f\"{url}_{i}\"))  # Example way to generate a numeric ID\n",
        "\n",
        "  # Add documents to Qdrant\n",
        "  client.add(\n",
        "      collection_name=\"your_collection_name\",\n",
        "      documents=documents,\n",
        "      metadata=metadatas,\n",
        "      ids=ids\n",
        "  )\n",
        "  return client\n",
        "\n",
        "client = add_to_qdrant(extracted_data)"
      ],
      "metadata": {
        "colab": {
          "base_uri": "https://localhost:8080/"
        },
        "id": "tl-BSbU7Qf5H",
        "outputId": "88953ef4-a506-4339-c4c1-8bb282d26aa5"
      },
      "execution_count": 21,
      "outputs": [
        {
          "output_type": "stream",
          "name": "stderr",
          "text": [
            "100%|██████████| 83.2M/83.2M [00:01<00:00, 51.2MiB/s]\n"
          ]
        },
        {
          "output_type": "stream",
          "name": "stdout",
          "text": [
            "CPU times: user 2min 44s, sys: 1.03 s, total: 2min 45s\n",
            "Wall time: 2min 46s\n"
          ]
        }
      ]
    },
    {
      "cell_type": "code",
      "source": [
        "def query_index(client,collection_name, query_text, limit=100):\n",
        "  \"\"\" Query the index with the given client and query text.\n",
        "  \"\"\"\n",
        "\n",
        "  search_result = client.query(\n",
        "  collection_name=collection_name,\n",
        "  query_text=query_text, limit= limit\n",
        "  )\n",
        "  context = \"\".join(set([\"\".join(result.metadata['document']) for result in search_result]))\n",
        "\n",
        "  return context"
      ],
      "metadata": {
        "id": "sNNT8E1PU4D8"
      },
      "execution_count": 22,
      "outputs": []
    },
    {
      "cell_type": "code",
      "source": [
        "%%time\n",
        "def create_report(client, research_questions):\n",
        "  response = []\n",
        "  display(to_markdown(\"# Your Research Report\"))\n",
        "  for question in research_questions:\n",
        "    context = query_index(client, \"your_collection_name\", question)\n",
        "    prompt = generate_report_prompt(question, context[:31000*4])\n",
        "    response.append(ask_gemini(prompt, GEMINI_API_KEY))\n",
        "    #response.append(ask_gemini(\"Write an detailed article about the question: {{\" + question + \"}} given the context from scraped: {{\" + context+ \"}}\",GEMINI_API_KEY))\n",
        "    #to_markdown(response)\n",
        "  return response\n",
        "\n",
        "response = create_report(client, research_questions)"
      ],
      "metadata": {
        "colab": {
          "base_uri": "https://localhost:8080/",
          "height": 1000
        },
        "id": "B5z3T0Q1Ve0q",
        "outputId": "68163ea3-2f8f-4d24-93b4-82e0b04cb380"
      },
      "execution_count": 23,
      "outputs": [
        {
          "output_type": "display_data",
          "data": {
            "text/plain": [
              "<IPython.core.display.Markdown object>"
            ],
            "text/markdown": "> # Your Research Report"
          },
          "metadata": {}
        },
        {
          "output_type": "display_data",
          "data": {
            "text/plain": [
              "<IPython.core.display.Markdown object>"
            ],
            "text/markdown": "> **Canoo EV: Industry Analysis**\n> \n> ### Introduction\n> \n> **Industry Overview**\n> \n> Canoo is an electric vehicle (EV) manufacturer that operates within the rapidly growing automotive industry. The industry is undergoing a significant shift towards electrification, driven by advancements in battery technology, government incentives, and increasing consumer demand for sustainable transportation.\n> \n> **Market Size and Growth Rate**\n> \n> The global EV market is estimated to be worth $287.3 billion in 2023 and is projected to reach $1.32 trillion by 2030, exhibiting a compound annual growth rate (CAGR) of 22.7% during the forecast period (2023-2030) (Grand View Research, 2023).\n> \n> **Market Trends**\n> \n> Several key trends are shaping the EV market:\n> \n> * **Increased Battery Capacity and Range:** Advancements in battery technology are leading to longer driving ranges on a single charge, reducing range anxiety among consumers.\n> * **Shorter Charging Times:** Fast-charging technology allows EVs to be charged more quickly, reducing the inconvenience of charging.\n> * **Government Incentives:** Governments worldwide are offering tax breaks, subsidies, and other incentives to promote EV adoption.\n> * **Growing Consumer Demand:** Consumers are becoming more environmentally conscious and are increasingly choosing EVs as a sustainable alternative to gasoline-powered vehicles.\n> \n> ### Key Players\n> \n> The EV market is highly competitive, with numerous established and emerging players. Some of the key players in the industry include:\n> \n> * **Tesla:** The global leader in EV sales, known for its high-performance vehicles and advanced technology.\n> * **BYD:** A Chinese automaker that is a major player in the global EV market, particularly in the bus and truck segments.\n> * **Volkswagen:** A German automaker that is investing heavily in EV development and aims to become a major player in the market.\n> * **General Motors:** An American automaker that is transitioning its portfolio towards EVs and recently announced plans to sell only EVs by 2035.\n> * **Ford Motor Company:** An American automaker that is also investing heavily in EV development and has released several popular EV models.\n> \n> ### Competitive Landscape\n> \n> Canoo EV operates in a highly competitive market, facing competition from established automakers as well as emerging startups. The company differentiates itself through its unique business model and its focus on commercial and lifestyle vehicles.\n> \n> **Canoo's Unique Value Proposition**\n> \n> * **Modular \"Skateboard\" Platform:** Canoo has developed a proprietary \"skateboard\" platform that integrates the battery, electric motors, and other critical components. This allows the company to offer vehicles with different body styles and configurations, enabling it to target a wide range of customer needs.\n> * **Subscription-Based Business Model:** Canoo offers its vehicles on a subscription basis, providing customers with a flexible and cost-effective way to access their vehicles without the traditional costs associated with ownership, such as down payments and monthly loan payments.\n> \n> **Challenges**\n> \n> Like other EV startups, Canoo faces several challenges in the competitive EV market:\n> \n> * **Limited Production Capacity:** Canoo is still in the early stages of production and has not yet achieved significant economies of scale.\n> * **Supply Chain Disruptions:** The COVID-19 pandemic and other global events have led to supply chain disruptions, which can impact the production and delivery of Canoo's vehicles.\n> * **Intense Competition:** Canoo faces intense competition from established automakers with large production capacities and extensive distribution networks.\n> \n> ### Growth Strategies\n> \n> To address these challenges and capitalize on the growing EV market, Canoo is pursuing several growth strategies:\n> \n> * **Expanding Production Capacity:** The company plans to increase its production capacity to meet the growing demand for its vehicles.\n> * **Establishing Partnerships:** Canoo is partnering with other companies, such as Walmart and Kingbee, to expand its reach and provide its vehicles to a wider range of customers.\n> * **Diversifying Product Line:** The company is developing new vehicle models, including pickup trucks and lifestyle vehicles, to expand its market reach.\n> \n> ### Conclusion\n> \n> Canoo EV operates in a rapidly growing and highly competitive EV market. The company's unique value proposition and growth strategies position it well to capture a share of the market, but it faces challenges that it must overcome to achieve long-term success. As the EV market continues to expand, Canoo EV has the potential to become a significant player in the industry.\n> \n> ### References\n> \n> * Grand View Research. (2023). **Electric Vehicle Market Size, Share & Trends Analysis Report by Vehicle Type (Passenger Cars, Buses, Light Commercial Vehicles, Heavy Commercial Vehicles), by Power Source (Battery, Hybrid), by Application, by Region, and Segment Forecast, 2023 - 2030.** https://www.grandviewresearch.com/industry-analysis/electric-vehicle-market"
          },
          "metadata": {}
        },
        {
          "output_type": "display_data",
          "data": {
            "text/plain": [
              "<IPython.core.display.Markdown object>"
            ],
            "text/markdown": ">  2000+% 202-”100000).S, 2, 74, 8,100, 75– 20, 202 24-US- грун, 255"
          },
          "metadata": {}
        },
        {
          "output_type": "display_data",
          "data": {
            "text/plain": [
              "<IPython.core.display.Markdown object>"
            ],
            "text/markdown": "> ,"
          },
          "metadata": {}
        },
        {
          "output_type": "display_data",
          "data": {
            "text/plain": [
              "<IPython.core.display.Markdown object>"
            ],
            "text/markdown": "> **Financial Performance of Canoo Electric Vehicles**\n> \n> **Revenue**\n> \n> Canoo's revenue has been steadily increasing over the past few years. In 2021, the company reported revenue of $519,000. This increased to $3,321,000 in 2022, a growth of 539%. The company's revenue is expected to continue to grow in the coming years, as it ramps up production of its electric vehicles.\n> \n> **Profit Margins**\n> \n> Canoo's profit margins have been negative in recent years. In 2021, the company reported a net loss of $353.81 million. This improved to a net loss of $287.8 million in 2022. The company's profit margins are expected to improve in the coming years, as it scales up production and reduces costs.\n> \n> **Return on Investment**\n> \n> Canoo's return on investment (ROI) has been negative in recent years. In 2021, the company reported an ROI of -73%. This improved to -57% in 2022. The company's ROI is expected to improve in the coming years, as it scales up production and reduces costs.\n> \n> **Expense Structure**\n> \n> Canoo's expense structure is dominated by research and development (R&D) costs. In 2022, the company reported R&D costs of $138.2 million. This represented 41% of the company's total expenses. The company's R&D costs are expected to decrease in the coming years, as it completes the development of its electric vehicles.\n> \n> **Overall Financial Performance**\n> \n> Canoo's financial performance has been mixed in recent years. The company has reported increasing revenue, but negative profit margins and ROI. The company's financial performance is expected to improve in the coming years, as it scales up production and reduces costs.\n> \n> **Financial Outlook**\n> \n> Canoo expects to continue to grow its revenue in the coming years. The company expects to achieve profitability in 2024. The company's financial outlook is based on a number of assumptions, including the continued growth of the EV market, the successful launch of its electric vehicles, and the ability to reduce costs.\n> \n> **Risks**\n> \n> There are a number of risks that could impact Canoo's financial performance. These risks include:\n> \n> * The EV market may not grow as quickly as expected.\n> * Canoo may not be able to successfully launch its electric vehicles.\n> * Canoo may not be able to reduce costs as quickly as expected.\n> * Canoo may face competition from other EV manufacturers.\n> \n> **Conclusion**\n> \n> Canoo is a high-growth EV company with a strong financial outlook. The company has a number of advantages, including its proprietary EV platform, its experienced management team, and its strong partnerships. Canoo is well-positioned to capitalize on the growing EV market and achieve long-term success."
          },
          "metadata": {}
        },
        {
          "output_type": "stream",
          "name": "stdout",
          "text": [
            "CPU times: user 583 ms, sys: 448 ms, total: 1.03 s\n",
            "Wall time: 47.1 s\n"
          ]
        }
      ]
    },
    {
      "cell_type": "code",
      "source": [
        "with open(\"report.md\", 'w') as report:\n",
        "  report.write(\"\".join(response))"
      ],
      "metadata": {
        "id": "vohtZC-QJ82n"
      },
      "execution_count": 24,
      "outputs": []
    },
    {
      "cell_type": "markdown",
      "source": [
        "# FINAL REPORT IN MARKDOWN FORMAT"
      ],
      "metadata": {
        "id": "JsUdgDBXL62h"
      }
    },
    {
      "cell_type": "markdown",
      "source": [
        "**Industry Overview**\n",
        "\n",
        "Canoo EV operates within the electric vehicle (EV) industry, a rapidly growing market driven by increasing demand for sustainable transportation solutions. The industry is characterized by advancements in EV technology, rising consumer awareness, and government initiatives promoting EV adoption.\n",
        "\n",
        "**Market Size**\n",
        "\n",
        "As of 2023, the global EV market is estimated to be around 12.8 million units in volume. This market is expected to grow exponentially over the next decade, reaching an estimated 100 million units by 2030.\n",
        "\n",
        "**Growth Rate**\n",
        "\n",
        "The EV market is experiencing a significant growth rate, projected to expand at a compound annual growth rate (CAGR) of over 20% from 2023 to 2030. This growth is fueled by factors such as rising fuel prices, environmental concerns, and increasing government support.\n",
        "\n",
        "**Trends**\n",
        "\n",
        "* **Shift towards electric mobility:** Governments and consumers are increasingly recognizing the benefits of electric vehicles, leading to a shift away from gasoline-powered vehicles.\n",
        "* **Advancements in EV technology:** Innovations in battery technology, charging infrastructure, and EV design are enhancing EV performance, range, and affordability.\n",
        "* **Growing popularity of subscription models:** Subscription-based services are gaining traction in the EV market, providing consumers with flexible and affordable access to electric vehicles.\n",
        "* **Rise of electric commercial vehicles:** The adoption of electric vehicles is expanding into commercial sectors, including delivery, ride-hailing, and logistics.\n",
        "\n",
        "**Key Players**\n",
        "\n",
        "Major players in the EV market include:\n",
        "\n",
        "* Tesla\n",
        "* BYD\n",
        "* Volkswagen\n",
        "* Ford\n",
        "* General Motors\n",
        "* Toyota\n",
        "* Hyundai\n",
        "* Kia\n",
        "* Canoo EV\n",
        "\n",
        "**Canoo EV's Product Strategy**\n",
        "\n",
        "Canoo EV differentiates itself in the market by focusing on modular platform architecture and innovative designs. The company's modular platform allows for the development of a variety of vehicle types, including delivery vans, lifestyle vehicles, and multipurpose vehicles. Canoo EV's designs prioritize space utilization, versatility, and sustainability.\n",
        "\n",
        "**Canoo EV's Marketing Strategy**\n",
        "\n",
        "Canoo EV employs a multi-channel marketing strategy to reach its target audience. The company utilizes a combination of online and offline channels, including:\n",
        "\n",
        "* Digital marketing: Search engine optimization (SEO), social media, and paid advertising\n",
        "* Experiential marketing: Pop-up events, test drives, and ride-and-drive experiences\n",
        "* Partnerships with dealerships and ride-sharing companies\n",
        "* Public relations: Media outreach and industry events\n",
        "\n",
        "**Canoo EV's Financial Performance**\n",
        "\n",
        "As a publicly traded company, Canoo EV reports its financial performance regularly. The company's revenue has been growing steadily, and it recently reported a significant increase in vehicle deliveries. Canoo EV's financial performance is closely tied to the overall growth and demand in the EV market.\n",
        "\n",
        "**Canoo EV's Future Outlook**\n",
        "\n",
        "Canoo EV is well-positioned to capitalize on the growing EV market. The company's focus on innovation, strategic partnerships, and subscription-based business model provides a competitive advantage. Canoo EV has a strong pipeline of upcoming vehicle models and a clear path to profitability.**Canoo's Competitors**\n",
        "\n",
        "Canoo faces competition from a number of established electric vehicle manufacturers, as well as startups that are also developing new electric vehicles. Some of Canoo's key competitors include:\n",
        "\n",
        "* **Tesla** is the world's leading electric vehicle manufacturer, with a lineup of vehicles that includes the Model S, Model 3, Model X, and Model Y. Tesla is also known for its advanced Autopilot driver assistance system and its extensive network of Supercharger charging stations.\n",
        "* **Rivian** is a startup that is developing a lineup of electric pickup trucks and SUVs. Rivian's vehicles are designed to be rugged and off-road capable, and they come with a variety of features that are tailored to outdoor enthusiasts.\n",
        "* **Lucid** is a startup that is developing a lineup of luxury electric vehicles. Lucid's vehicles are designed to be spacious, comfortable, and technologically advanced.\n",
        "* **NIO** is a Chinese electric vehicle manufacturer that is known for its high-performance vehicles. NIO's vehicles come with a variety of features that are designed to appeal to luxury buyers, such as advanced infotainment systems and premium interiors.\n",
        "* **Xpeng** is a Chinese electric vehicle manufacturer that is known for its affordable vehicles. Xpeng's vehicles come with a variety of features that are designed to appeal to budget-minded consumers, such as long range and fast charging capabilities.\n",
        "\n",
        "**Market Share**\n",
        "\n",
        "According to a report by CleanTechnica, Tesla is the world's leading electric vehicle manufacturer, with a market share of 21%. Rivian is the second-largest electric vehicle manufacturer, with a market share of 11%. Lucid is the third-largest electric vehicle manufacturer, with a market share of 10%. NIO is the fourth-largest electric vehicle manufacturer, with a market share of 8%. Xpeng is the fifth-largest electric vehicle manufacturer, with a market share of 7%.\n",
        "\n",
        "**Products or Services Offered**\n",
        "\n",
        "Canoo offers a lineup of electric vehicles that includes the Lifestyle Vehicle, the MPDV, and the Pickup Truck. The Lifestyle Vehicle is a compact electric SUV that is designed for urban commuting. The MPDV is a larger electric van that is designed for commercial use. The Pickup Truck is an electric pickup truck that is designed for both work and play.\n",
        "\n",
        "**Pricing Strategies**\n",
        "\n",
        "Canoo's pricing strategies vary depending on the model and trim level. The Lifestyle Vehicle starts at $34,750. The MPDV starts at $33,000. The Pickup Truck starts at $39,950.\n",
        "\n",
        "**Promotion Strategies**\n",
        "\n",
        "Canoo uses a variety of promotion strategies to reach its target market. These strategies include:\n",
        "\n",
        "* **Online advertising:** Canoo uses online advertising to reach potential customers who are searching for information about electric vehicles.\n",
        "* **Social media:** Canoo uses social media to connect with potential customers and share information about its products and services.\n",
        "* **Public relations:** Canoo uses public relations to generate positive media coverage of its products and services.\n",
        "* **Events:** Canoo participates in a variety of events, such as trade shows and auto shows, to showcase its products and services to potential customers.## Key Trends in the EV Market\n",
        "\n",
        "The electric vehicle (EV) market is experiencing significant growth, driven by a variety of factors. Here are some key trends that are shaping the industry:\n",
        "\n",
        "**Changes in Consumer Behavior**\n",
        "\n",
        "* Increasing environmental consciousness: Consumers are becoming more aware of the environmental impact of their transportation choices and are seeking out ways to reduce their carbon footprint.\n",
        "* Growing demand for affordable and fuel-efficient vehicles: As the cost of owning and operating an EV continues to decline, more consumers are considering them as a viable option.\n",
        "* Technological advancement: The development of new battery technologies and the improvement of charging infrastructure has helped to address some of the concerns that consumers have about the practicality of owning an EV.\n",
        "\n",
        "**Technological Advancements**\n",
        "\n",
        "* Longer driving range: New battery technologies have extended the range of the average EV, making them more convenient for daily use.\n",
        "* Faster charging times: The development of new charging technologies has reduced the time it takes to charge an EV, making them more convenient for on-the-go charging.\n",
        "* Advanced safety features: As the EV market matures, manufacturers are incorporating more advanced safety features into their vehicles, including lane departure warning systems, automatic emergency braking, and adaptive cruise control.\n",
        "\n",
        "**Shifts in the Competitive Landscape**\n",
        "\n",
        "* The EV market is becoming increasingly competitive, with new players entering the market and established automakers investing heavily in developing their own EV offerings.\n",
        "* Traditional automakers are partnering with technology companies to develop new and innovative EV technologies.\n",
        "\n",
        "## Future Outlook\n",
        "\n",
        "The EV market is expected to continue to grow in the coming years, driven by the increasing demand for sustainable and efficient transportation options. However, the market may face some challenges, such as the high cost of EV batteries and the need for a more robust charging infrastructure. Nevertheless, the long-term outlook for the EV market is positive, as governments and consumers continue to support the transition to a more sustainable transportation system.**Canoo EV's Financial Performance**\n",
        "\n",
        "**Revenue**\n",
        "\n",
        "* $1.2 million in revenue reported in the first quarter of 2022\n",
        "* $25 million in revenue from sales and distribution channels as of 2023\n",
        "\n",
        "**Profit Margins**\n",
        "\n",
        "* Not currently profitable\n",
        "\n",
        "**Return on Investment (ROI)**\n",
        "\n",
        "* Financial data was not available to calculate ROI\n",
        "\n",
        "**Expense Structure**\n",
        "\n",
        "* **Product Development:** Focused on designing and developing electric vehicles with innovative features, such as a flat \"skateboard\" platform.\n",
        "* **Manufacturing:** outsources vehicle production to VDL Nedcar in the Netherlands.\n",
        "* **Marketing and Sales:** Uses a combination of online and offline channels to reach customers.\n",
        "* **General and Administrative (G&A):** Includes salaries, rent, and other operating expenses.\n",
        "\n",
        "**Canoo EV's Financial Performance Drivers**\n",
        "\n",
        "**Product Strategy**\n",
        "\n",
        "* Focus on developing modular electric vehicles that can be customized to meet various needs.\n",
        "* Unique \"skateboard\" platform enables maximum interior space and adaptability.\n",
        "\n",
        "**Business Model**\n",
        "\n",
        "* Subscription-based model offers flexibility and convenience to customers.\n",
        "* All-inclusive subscription includes maintenance, warranty, registration, and access to insurance and vehicle charging.\n",
        "\n",
        "**Market Positioning**\n",
        "\n",
        "* Target market includes both consumers and businesses.\n",
        "* Emphasis on affordable and sustainable electric vehicles.\n",
        "\n",
        "**Challenges**\n",
        "\n",
        "* Competition from established automakers\n",
        "* High development and production costs\n",
        "* Limited charging infrastructure\n",
        "* Supply chain disruptions\n",
        "\n",
        "**Market Outlook**\n",
        "\n",
        "* The electric vehicle market is expected to grow significantly in the coming years, driven by factors such as:\n",
        "    * Government incentives\n",
        "    * Consumer demand for sustainable transportation\n",
        "    * Technological advancements and cost reductions\n",
        "\n",
        "Canoo EV is well-positioned to benefit from this market growth by leveraging its unique product offerings and innovative business model. However, the company faces strong competition and will need to execute its strategy effectively to succeed."
      ],
      "metadata": {
        "id": "YtuWEayxKQgG"
      }
    }
  ],
  "metadata": {
    "colab": {
      "provenance": [],
      "authorship_tag": "ABX9TyNq8ZX6PxdvwIUq+ZmVcieW",
      "include_colab_link": true
    },
    "kernelspec": {
      "display_name": "Python 3",
      "name": "python3"
    },
    "language_info": {
      "name": "python"
    }
  },
  "nbformat": 4,
  "nbformat_minor": 0
}