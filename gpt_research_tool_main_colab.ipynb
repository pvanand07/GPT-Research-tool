{
  "cells": [
    {
      "cell_type": "markdown",
      "metadata": {
        "id": "view-in-github",
        "colab_type": "text"
      },
      "source": [
        "<a href=\"https://colab.research.google.com/github/pvanand07/GPT-Research-tool/blob/master/gpt_research_tool_main_colab.ipynb\" target=\"_parent\"><img src=\"https://colab.research.google.com/assets/colab-badge.svg\" alt=\"Open In Colab\"/></a>"
      ]
    },
    {
      "cell_type": "code",
      "execution_count": null,
      "metadata": {
        "id": "w9q7EL6s07kM"
      },
      "outputs": [],
      "source": [
        "!pip install -U google-generativeai -q\n",
        "# Utilizes quantized models for fast inference on cpu\n",
        "!pip install qdrant-client[fastembed] -q"
      ]
    },
    {
      "cell_type": "code",
      "source": [
        "research_questions = [\n",
        "    \"Identify the industry in which Canoo ev operates, along with its size, growth rate, trends, and key players.\",\n",
        "    \"Analyze Canoo ev's main competitors, including their market share, products or services offered, pricing strategies, and marketing efforts.\",\n",
        "    \"Identify key trends in the ev market, including changes in consumer behavior, technological advancements, and shifts in the competitive landscape.\",\n",
        "    \"Gather information on Canoo ev's financial performance, including its revenue, profit margins, return on investment, and expense structure.\"\n",
        "]"
      ],
      "metadata": {
        "id": "rUuB-FlqFI_P"
      },
      "execution_count": 2,
      "outputs": []
    },
    {
      "cell_type": "code",
      "source": [
        "import nltk\n",
        "nltk.download('punkt')"
      ],
      "metadata": {
        "colab": {
          "base_uri": "https://localhost:8080/"
        },
        "id": "vSWviMpOPHZ-",
        "outputId": "30e45a1d-7668-4d67-8dcb-0411327ae6be"
      },
      "execution_count": 3,
      "outputs": [
        {
          "output_type": "stream",
          "name": "stderr",
          "text": [
            "[nltk_data] Downloading package punkt to /root/nltk_data...\n",
            "[nltk_data]   Unzipping tokenizers/punkt.zip.\n"
          ]
        },
        {
          "output_type": "execute_result",
          "data": {
            "text/plain": [
              "True"
            ]
          },
          "metadata": {},
          "execution_count": 3
        }
      ]
    },
    {
      "cell_type": "code",
      "execution_count": 4,
      "metadata": {
        "id": "06c0Hntv6cpd"
      },
      "outputs": [],
      "source": [
        "from google.colab import userdata\n",
        "import requests\n",
        "from IPython.display import display\n",
        "from IPython.display import Markdown\n",
        "import pathlib\n",
        "import textwrap\n",
        "import google.generativeai as genai\n",
        "from googleapiclient.discovery import build\n",
        "from nltk.tokenize import sent_tokenize\n",
        "import ast\n",
        "import json\n",
        "from qdrant_client import QdrantClient\n",
        "\n",
        "\n",
        "my_api_key = userdata.get('google_search_api') # Get your Google Search API key from here (free) (LIMIT:100 queries/day): https://developers.google.com/custom-search/v1/overview\n",
        "my_cse_id = userdata.get('cse_id') # Obtain your Custom Search Engine ID from here (free): https://developers.google.com/custom-search/v1/overview\n",
        "GEMINI_API_KEY = userdata.get('gemini_api') # Get your GEMINI API key from here (free) (LIMIT:100 queries/hour) https://aistudio.google.com/app/apikey"
      ]
    },
    {
      "cell_type": "code",
      "execution_count": 5,
      "metadata": {
        "id": "a2ec4wx_ngCO"
      },
      "outputs": [],
      "source": [
        "def google_search(search_term, api_key, cse_id, **kwargs):\n",
        "    service = build(\"customsearch\", \"v1\", developerKey=api_key)\n",
        "    res = service.cse().list(q=search_term, cx=cse_id, **kwargs).execute()\n",
        "    return res\n",
        "\n",
        "def to_markdown(text):\n",
        "  text = text.replace('•', '  *')\n",
        "  return Markdown(textwrap.indent(text, '> ', predicate=lambda _: True))\n",
        "\n",
        "def ask_gemini(question, GEMINI_API_KEY):\n",
        "\n",
        "  genai.configure(api_key=GEMINI_API_KEY)\n",
        "  model = genai.GenerativeModel('gemini-pro')\n",
        "  response = model.generate_content(question)\n",
        "  display(to_markdown(response.text))\n",
        "\n",
        "  return response.text"
      ]
    },
    {
      "cell_type": "code",
      "execution_count": 7,
      "metadata": {
        "id": "Fvzch-kkz5bA"
      },
      "outputs": [],
      "source": [
        "def generate_search_queries_prompt(question, max_iterations=6):\n",
        "    \"\"\" Generates the search queries prompt for the given question.\n",
        "    Args: question (str): The question to generate the search queries prompt for\n",
        "    Returns: str: The search queries prompt for the given question\n",
        "    \"\"\"\n",
        "\n",
        "    return 'Follow the instructions'\\\n",
        "           f'1. Write {max_iterations} google search queries to search online that form an objective opinion from the following: \"{question}\"' \\\n",
        "           f'2. output only the list of search queries in the format: [\"query 1\", \"query 2\", ...].'\n",
        "\n",
        "\n",
        "def generate_report_prompt(question, context, report_format=\"apa\", total_words=1000):\n",
        "    \"\"\" Generates the report prompt for the given question and research summary.\n",
        "    Args: question (str): The question to generate the report prompt for\n",
        "            research_summary (str): The research summary to generate the report prompt for\n",
        "    Returns: str: The report prompt for the given question and research summary\n",
        "    \"\"\"\n",
        "\n",
        "    return f'Using the Information: \"\"\"{context}\"\"\"\\n\\n' \\\n",
        "           f'answer the following' \\\n",
        "           f'query : \"{question}\" in a detailed report --' \\\n",
        "           f\"with facts and numbers if available and a minimum of {total_words} words.\\n\" \\\n",
        "           f\"You MUST write the report in {report_format} format.\\n \""
      ]
    },
    {
      "cell_type": "code",
      "execution_count": 174,
      "metadata": {
        "colab": {
          "base_uri": "https://localhost:8080/",
          "height": 226
        },
        "id": "TpdcwPsh0MjW",
        "outputId": "0e0f75e3-fe93-4a96-872a-eafd95c68bd8"
      },
      "outputs": [
        {
          "output_type": "display_data",
          "data": {
            "text/plain": [
              "<IPython.core.display.Markdown object>"
            ],
            "text/markdown": "> [\"Industry in which Canoo ev operates\", \"Size of the electric vehicle industry\", \"Electric vehicle industry growth rate\", \"Trends in the electric vehicle industry\", \"Key players in the electric vehicle industry\", \"Market research on Canoo ev\"]"
          },
          "metadata": {}
        },
        {
          "output_type": "display_data",
          "data": {
            "text/plain": [
              "<IPython.core.display.Markdown object>"
            ],
            "text/markdown": "> [\"Canoo EV competitors market share\", \"Canoo EV competitors products and services\", \"Canoo EV competitors pricing strategies\", \"Canoo EV competitors marketing efforts\", \"Comparative analysis of Canoo EV competitors\", \"Canoo EV competition landscape\"]"
          },
          "metadata": {}
        },
        {
          "output_type": "display_data",
          "data": {
            "text/plain": [
              "<IPython.core.display.Markdown object>"
            ],
            "text/markdown": "> [\"Consumer behavior in the electric vehicle market\", \"Technological advances in electric vehicles\", \"Competitive landscape of the electric vehicle market\", \"Trends in electric vehicle ownership\", \"Shifting market dynamics for electric vehicles\", \"Emerging technologies in the electric vehicle sector\"]"
          },
          "metadata": {}
        },
        {
          "output_type": "display_data",
          "data": {
            "text/plain": [
              "<IPython.core.display.Markdown object>"
            ],
            "text/markdown": "> [\"Canoo Revenue\", \"Canoo Profit Margin\", \"Canoo Return on Investment\", \"Canoo Expense Structure\", \"Canoo Financial Performance Analysis\", \"Canoo Earnings Reports\"]"
          },
          "metadata": {}
        }
      ],
      "source": [
        "def generate_search_queries(research_questions):\n",
        "  research_queries_dict ={}\n",
        "  for question in research_questions:\n",
        "    question_prompt = generate_search_queries_prompt(question)\n",
        "    research_queries_dict[question] = ask_gemini(question_prompt,GEMINI_API_KEY)\n",
        "\n",
        "  return research_queries_dict\n",
        "\n",
        "\n",
        "def generate_research_query_list(research_queries_dict):\n",
        "  # Convert Gemini output from string to list\n",
        "  research_queries_dict_list = {}\n",
        "  for question, research_queries in research_queries_dict.items():\n",
        "    if research_queries and research_queries.strip():  # Check if the input is not null or empty\n",
        "        try:\n",
        "            research_queries_dict_list[question] = ast.literal_eval(research_queries)\n",
        "\n",
        "        except SyntaxError or ValueError:\n",
        "            # If ast.literal_eval() fails due to syntax error, tokenize the string into sentences using NLTK\n",
        "            research_queries_dict_list[question] = sent_tokenize(research_queries)\n",
        "            if len(research_queries_dict_list[question]) == 1:\n",
        "              research_queries_dict_list[question] = research_queries.split('\\n')\n",
        "    else:\n",
        "        print(\"Input ask_gemini(question)-->research_queries is null or empty. Passing...\")\n",
        "\n",
        "  return research_queries_dict_list\n",
        "\n",
        "research_queries_dict = generate_search_queries(research_questions)\n",
        "research_queries_dict_list = generate_research_query_list(research_queries_dict)"
      ]
    },
    {
      "cell_type": "code",
      "execution_count": null,
      "metadata": {
        "id": "Kr0WEoUmEuSV"
      },
      "outputs": [],
      "source": [
        "def extract_data_from_google_search_results(research_queries_dict_list):\n",
        "# Using the search queries to perform google search and extract links\n",
        "  research_links_google = {}\n",
        "\n",
        "  for question, research_queries_list in research_queries_dict_list.items():\n",
        "    for research_query in research_queries_list:\n",
        "      research_links_google[research_query] = google_search(research_query, my_api_key, my_cse_id, num=2)\n",
        "\n",
        "  # Writing google search results dictionary to a JSON file\n",
        "  with open(\"research_links_google.json\", 'w') as json_file:\n",
        "      json.dump(research_links_google, json_file)\n",
        "\n",
        "  print(f\"Dictionary saved as JSON file: research_links_google.json\")\n",
        "\n",
        "  return research_links_google\n",
        "\n",
        "research_links_google = extract_data_from_google_search_results(research_queries_dict_list)"
      ]
    },
    {
      "cell_type": "code",
      "execution_count": 184,
      "metadata": {
        "id": "sPnEoIgiOBSC"
      },
      "outputs": [],
      "source": [
        "def extract_links(research_links_google):\n",
        "  # Load the search results from the JSON file\n",
        "  # File path to the JSON file\n",
        "  file_path = \"/content/research_links_google.json\"\n",
        "\n",
        "  # Loading JSON file as dictionary\n",
        "  with open(file_path, 'r') as json_file:\n",
        "      research_links_google1 = json.load(json_file)\n",
        "\n",
        "\n",
        "  topics_dict_list = [research_links_google[k] for k, v in research_links_google.items()] # 24 Topics x 2 URLS\n",
        "\n",
        "  links_list = []\n",
        "  for topic_dict in topics_dict_list:\n",
        "    try:\n",
        "      for item in topic_dict['items']:\n",
        "        links_list.append(item['link'])\n",
        "    except:\n",
        "      pass\n",
        "\n",
        "  return links_list\n",
        "\n",
        "links_list = extract_links(research_links_google)"
      ]
    },
    {
      "cell_type": "code",
      "execution_count": 186,
      "metadata": {
        "id": "8xjsI2LW6VzK"
      },
      "outputs": [],
      "source": [
        "from concurrent.futures import ThreadPoolExecutor\n",
        "from functools import partial\n",
        "import requests\n",
        "from bs4 import BeautifulSoup\n",
        "\n",
        "class Scraper:\n",
        "    \"\"\"\n",
        "    Scraper class to extract the content from web page links.\n",
        "    \"\"\"\n",
        "    def __init__(self, urls, user_agent):\n",
        "        \"\"\"\n",
        "        Initialize the Scraper class.\n",
        "        Args:\n",
        "            urls (list): List of URLs to scrape.\n",
        "            user_agent (str): User agent string for the HTTP header to simulate a browser request.\n",
        "        \"\"\"\n",
        "        self.urls = urls\n",
        "        self.session = requests.Session()\n",
        "        self.session.headers.update({\n",
        "            \"User-Agent\": user_agent\n",
        "        })\n",
        "\n",
        "    def run(self):\n",
        "        \"\"\"\n",
        "        Extracts the content from the provided URLs.\n",
        "        Returns:\n",
        "            list: A list of dictionaries with URL and its corresponding raw content.\n",
        "        \"\"\"\n",
        "        partial_extract = partial(self.extract_data_from_link, session=self.session)\n",
        "        with ThreadPoolExecutor(max_workers=20) as executor:\n",
        "            contents = executor.map(partial_extract, self.urls)\n",
        "        res = [content for content in contents if content['raw_content']]\n",
        "        return res\n",
        "\n",
        "    def extract_data_from_link(self, link, session):\n",
        "        \"\"\"\n",
        "        Extracts the data from a single web page link.\n",
        "        Args:\n",
        "            link (str): URL to scrape.\n",
        "            session (requests.Session): Session object for making requests.\n",
        "        Returns:\n",
        "            dict: A dictionary with URL and its raw content.\n",
        "        \"\"\"\n",
        "        try:\n",
        "            response = session.get(link, timeout=4)\n",
        "            if response.status_code == 200:\n",
        "                soup = BeautifulSoup(response.content, 'lxml', from_encoding=response.encoding)\n",
        "                raw_content = self.scrape_text_with_bs(soup)\n",
        "                if len(raw_content) < 100:\n",
        "                    return {'url': link, 'raw_content': None}\n",
        "                return {'url': link, 'raw_content': raw_content}\n",
        "            return {'url': link, 'raw_content': None}\n",
        "        except Exception as e:\n",
        "            return {'url': link, 'raw_content': None}\n",
        "\n",
        "    def scrape_text_with_bs(self, soup):\n",
        "        \"\"\"\n",
        "        Extracts and cleans text content from a BeautifulSoup object.\n",
        "        Args:\n",
        "            soup (BeautifulSoup): BeautifulSoup object of a web page.\n",
        "        Returns:\n",
        "            str: Cleaned text content from the web page.\n",
        "        \"\"\"\n",
        "        for script_or_style in soup([\"script\", \"style\"]):\n",
        "            script_or_style.extract()  # Remove script and style elements\n",
        "\n",
        "        text = soup.get_text(separator=\"\\n\")\n",
        "        lines = (line.strip() for line in text.splitlines())\n",
        "        chunks = (phrase.strip() for line in lines for phrase in line.split(\"  \"))\n",
        "        content = \"\\n\".join(chunk for chunk in chunks if chunk)\n",
        "        return content\n"
      ]
    },
    {
      "cell_type": "code",
      "execution_count": 206,
      "metadata": {
        "id": "M0z1j4E26QGj"
      },
      "outputs": [],
      "source": [
        "def extract_and_store_data(links_list, user_agent, output_file):\n",
        "    \"\"\"\n",
        "    Extracts data from the provided URLs and stores the data as a JSON file.\n",
        "\n",
        "    Args:\n",
        "        research_links_google_list (dict): A dictionary with keys as topics and values as lists of URLs.\n",
        "        user_agent (str): User agent string for HTTP requests.\n",
        "        output_file (str): Path to the output JSON file.\n",
        "    \"\"\"\n",
        "\n",
        "    # Initialize the Scraper with URLs and a user agent\n",
        "    scraper = Scraper(links_list, user_agent)\n",
        "    # Extract data\n",
        "    data = scraper.run()\n",
        "\n",
        "    data_dict = {}\n",
        "\n",
        "    for item in data:\n",
        "      data_dict[item['url']] = item['raw_content']\n",
        "    data_dict\n",
        "\n",
        "    # Write the data to a JSON file\n",
        "    with open(output_file, 'w', encoding='utf-8') as f:\n",
        "        json.dump(data_dict, f, ensure_ascii=False, indent=4)\n",
        "\n",
        "# Usage\n",
        "user_agent = 'Mozilla/5.0 (Windows NT 10.0; Win64; x64) AppleWebKit/537.36 (KHTML, like Gecko) Chrome/58.0.3029.110 Safari/537.3'\n",
        "output_file = 'extracted_data.json'  # Specify the path to the output file\n",
        "\n",
        "# Call the function with the provided research links, user agent, and output file path\n",
        "extract_and_store_data(links_list, user_agent, output_file)\n"
      ]
    },
    {
      "cell_type": "code",
      "execution_count": 8,
      "metadata": {
        "colab": {
          "base_uri": "https://localhost:8080/"
        },
        "id": "nXTegNjD9HGP",
        "outputId": "f667a183-575c-4a89-fb84-e8fd62d23eab"
      },
      "outputs": [
        {
          "output_type": "execute_result",
          "data": {
            "text/plain": [
              "15"
            ]
          },
          "metadata": {},
          "execution_count": 8
        }
      ],
      "source": [
        "import json\n",
        "\n",
        "# File path to the JSON file\n",
        "file_path = \"/content/extracted_data.json\"\n",
        "\n",
        "# Loading JSON file as dictionary\n",
        "with open(file_path, 'r') as json_file:\n",
        "    extracted_data = json.load(json_file)\n",
        "len(extracted_data)"
      ]
    },
    {
      "cell_type": "code",
      "source": [
        "%%time\n",
        "def add_to_qdrant(extracted_data):\n",
        "\n",
        "  # Initialize the Qdrant client with in-memory storage for demonstration purposes\n",
        "  client = QdrantClient(\":memory:\")  # Adjust the host and port if necessary\n",
        "  client.set_model(\"sentence-transformers/all-MiniLM-L6-v2\")\n",
        "\n",
        "  # Assuming `extracted_data` is a pre-defined dictionary with your data\n",
        "  documents = []\n",
        "  metadatas = []\n",
        "  ids = []\n",
        "\n",
        "  # Prepare your documents and metadata\n",
        "  for url, data in extracted_data.items():\n",
        "    sentences = data.split('\\n')\n",
        "\n",
        "    # Here you might need to adjust how you handle IDs to ensure they are unique integers\n",
        "    # Qdrant currently requires numeric IDs\n",
        "    for i, sentence in enumerate(sentences):\n",
        "        documents.append(sentence)\n",
        "        metadatas.append({\"url\": url+str(i)})\n",
        "        ids.append(hash(f\"{url}_{i}\"))  # Example way to generate a numeric ID\n",
        "\n",
        "  # Add documents to Qdrant\n",
        "  client.add(\n",
        "      collection_name=\"your_collection_name\",\n",
        "      documents=documents,\n",
        "      metadata=metadatas,\n",
        "      ids=ids\n",
        "  )\n",
        "  return client\n",
        "\n",
        "client = add_to_qdrant(extracted_data)"
      ],
      "metadata": {
        "colab": {
          "base_uri": "https://localhost:8080/"
        },
        "id": "tl-BSbU7Qf5H",
        "outputId": "b8a06809-418c-4d73-e913-124413761426"
      },
      "execution_count": 9,
      "outputs": [
        {
          "output_type": "stream",
          "name": "stderr",
          "text": [
            "100%|██████████| 83.2M/83.2M [00:03<00:00, 22.6MiB/s]\n"
          ]
        },
        {
          "output_type": "stream",
          "name": "stdout",
          "text": [
            "CPU times: user 2min 47s, sys: 1.74 s, total: 2min 49s\n",
            "Wall time: 2min 53s\n"
          ]
        }
      ]
    },
    {
      "cell_type": "code",
      "source": [
        "def query_index(client,collection_name, query_text, limit=100):\n",
        "  \"\"\" Query the index with the given client and query text.\n",
        "  \"\"\"\n",
        "\n",
        "  search_result = client.query(\n",
        "  collection_name=collection_name,\n",
        "  query_text=query_text, limit= limit\n",
        "  )\n",
        "  context = \"\".join(set([\"\".join(result.metadata['document']) for result in search_result]))\n",
        "\n",
        "  return context"
      ],
      "metadata": {
        "id": "sNNT8E1PU4D8"
      },
      "execution_count": 10,
      "outputs": []
    },
    {
      "cell_type": "code",
      "source": [
        "%%time\n",
        "def create_report(client, research_questions):\n",
        "  response = []\n",
        "  display(to_markdown(\"# Your Research Report\"))\n",
        "  for question in research_questions:\n",
        "    context = query_index(client, \"your_collection_name\", question)\n",
        "    prompt = generate_report_prompt(question, context[:31000*4])\n",
        "    response.append(ask_gemini(prompt, GEMINI_API_KEY))\n",
        "    #response.append(ask_gemini(\"Write an detailed article about the question: {{\" + question + \"}} given the context from scraped: {{\" + context+ \"}}\",GEMINI_API_KEY))\n",
        "    #to_markdown(response)\n",
        "  return response\n",
        "\n",
        "response = create_report(client, research_questions)"
      ],
      "metadata": {
        "colab": {
          "base_uri": "https://localhost:8080/",
          "height": 1000
        },
        "id": "B5z3T0Q1Ve0q",
        "outputId": "56d93945-6648-4d24-8624-81f7ff280c56"
      },
      "execution_count": 11,
      "outputs": [
        {
          "output_type": "display_data",
          "data": {
            "text/plain": [
              "<IPython.core.display.Markdown object>"
            ],
            "text/markdown": "> # Your Research Report"
          },
          "metadata": {}
        },
        {
          "output_type": "display_data",
          "data": {
            "text/plain": [
              "<IPython.core.display.Markdown object>"
            ],
            "text/markdown": "> **Industry Overview**\n> \n> **Industry:** Electric Vehicle (EV) Market\n> \n> **Size:**\n> \n> * The global EV market is estimated to be valued at $580.2 billion in 2023.\n> * The market is projected to grow at a compound annual growth rate (CAGR) of 22.6% from 2023 to 2030, reaching $3,198.2 billion by 2030.\n> \n> **Growth Rate:**\n> \n> * The EV market is experiencing significant growth due to increasing government initiatives, technological advancements, and rising consumer demand for sustainable transportation solutions.\n> \n> **Trends:**\n> \n> * **Growing consumer acceptance for EVs:** Consumers are becoming increasingly aware of the environmental benefits and cost savings associated with EVs.\n> * **Government support:** Governments worldwide are implementing policies and incentives to promote EV adoption, such as tax credits, purchase rebates, and charging infrastructure investments.\n> * **Technological advancements:** EV manufacturers are不斷創新ns, improving battery technology, increasing vehicle range, and reducing charging times.\n> * **Expansion of charging infrastructure:** The number of public EV charging stations is growing rapidly globally, making it more convenient for EV owners to charge their vehicles.\n> \n> **Key Players:**\n> \n> The global EV market is highly competitive, with numerous established automakers and emerging EV startups vying for market share. Some of the key players include:\n> \n> * BYD (China)\n> * Tesla (US)\n> * Volkswagen AG (Germany)\n> * SAIC Motors (China)\n> * Stellantis (Netherlands)\n> * Hyundai Motor Group (South Korea)\n> * Ford Motor Company (US)\n> * General Motors (US)\n> * Toyota Motor Corporation (Japan)\n> * Nissan Motor Corporation (Japan)\n> * BMW Group (Germany)\n> * Daimler AG (Germany)\n> * Rivian Automotive (US)\n> * Lucid Motors (US)\n> * NIO (China)\n> * Xpeng Motors (China)\n> * Li Auto (China)\n> \n> **Canoo's Position in the EV Industry**\n> \n> Canoo Inc. is a relatively new entrant to the EV market. The company was founded in 2017 and is headquartered in Bentonville, Arkansas. Canoo designs, develops, and manufactures electric vehicles, including delivery vans, multipurpose delivery vehicles, and lifestyle vehicles.\n> \n> Canoo's unique selling proposition is its modular platform architecture, which allows it to quickly and cost-effectively develop and produce a wide range of EV models. The company also offers a subscription-based business model, which provides customers with access to vehicles without the need for long-term ownership.\n> \n> Canoo is still in its early stages of growth, but the company has made significant progress in developing its product lineup and establishing partnerships with major players in the EV ecosystem. In August 2023, Canoo announced a strategic partnership with Walmart to purchase 4,500 electric delivery vans, with an option to purchase up to 10,000 in the future.\n> \n> **Conclusion**\n> \n> The EV industry is experiencing rapid growth and is poised for continued expansion in the coming years. Canoo Inc. is a well-positioned player in this growing market, with its innovative platform architecture, subscription-based business model, and strategic partnerships. As the EV industry matures, Canoo is expected to play an increasingly significant role in shaping the future of transportation."
          },
          "metadata": {}
        },
        {
          "output_type": "display_data",
          "data": {
            "text/plain": [
              "<IPython.core.display.Markdown object>"
            ],
            "text/markdown": "> **Canoo EV's Main Competitors**\n> \n> Canoo is an electric vehicle (EV) manufacturer that is headquartered in Los Angeles, California. The company was founded in 2017 by Ulrich Kranz, Stefan Krause, and Richard Kim. Canoo produces a range of EVs, including the Lifestyle Vehicle, the Multi-Purpose Delivery Vehicle (MPDV), and the Pickup Truck.\n> \n> The EV market is highly competitive, with a number of well-established players. Canoo's main competitors include:\n> \n> * **Tesla** is the world's leading EV manufacturer. The company was founded in 2003 by Elon Musk and JB Straubel. Tesla produces a range of EVs, including the Model S, Model X, Model 3, and Model Y. Tesla also produces solar panels and energy storage systems.\n> * **Rivian** is an American EV manufacturer that was founded in 2009. Rivian produces a range of EVs, including the R1T pickup truck and the R1S SUV. Rivian also produces electric commercial vehicles.\n> * **Lucid Motors** is an American EV manufacturer that was founded in 2007. Lucid Motors produces a range of EVs, including the Lucid Air sedan and the Lucid Gravity SUV. Lucid Motors also produces electric powertrains and batteries.\n> * **NIO** is a Chinese EV manufacturer that was founded in 2014. NIO produces a range of EVs, including the ES8 SUV, the ES6 SUV, and the EC6 SUV. NIO also produces electric bicycles and electric charging stations.\n> * **Xpeng** is a Chinese EV manufacturer that was founded in 2014. Xpeng produces a range of EVs, including the G3 SUV, the P7 sedan, and the P5 sedan. Xpeng also produces electric charging stations.\n> * **Li Auto** is a Chinese EV manufacturer that was founded in 2015. Li Auto produces a range of EVs, including the Li ONE SUV and the Li L9 SUV. Li Auto also produces electric charging stations.\n> \n> **Market Share**\n> \n> Tesla is the market leader in the EV market, with a market share of 20%. Rivian, Lucid Motors, NIO, Xpeng, and Li Auto are all relatively new entrants to the EV market, but they are all growing rapidly. In 2022, Rivian delivered 25,051 vehicles, Lucid Motors delivered 6,610 vehicles, NIO delivered 258,038 vehicles, Xpeng delivered 222,932 vehicles, and Li Auto delivered 145,700 vehicles.\n> \n> **Products or Services Offered**\n> \n> Canoo's main competitors all offer a range of EVs. Tesla offers the Model S, Model X, Model 3, and Model Y. Rivian offers the R1T pickup truck and the R1S SUV. Lucid Motors offers the Lucid Air sedan and the Lucid Gravity SUV. NIO offers the ES8 SUV, the ES6 SUV, and the EC6 SUV. Xpeng offers the G3 SUV, the P7 sedan, and the P5 sedan. Li Auto offers the Li ONE SUV and the Li L9 SUV.\n> \n> In addition to EVs, Tesla also offers solar panels and energy storage systems. Rivian also produces electric commercial vehicles. Lucid Motors also produces electric powertrains and batteries. NIO also produces electric bicycles and electric charging stations. Xpeng also produces electric charging stations. Li Auto also produces electric charging stations.\n> \n> **Pricing Strategies**\n> \n> Canoo's main competitors all have different pricing strategies. Tesla's EVs are priced from $46,990. Rivian's EVs are priced from $73,000. Lucid Motors' EVs are priced from $87,400. NIO's EVs are priced from $56,571. Xpeng's EVs are priced from $45,990. Li Auto's EVs are priced from $58,990.\n> \n> **Marketing Efforts**\n> \n> Canoo's main competitors all have different marketing strategies. Tesla is known for its direct-to-consumer sales model and its focus on technology. Rivian is known for its adventure-oriented vehicles and its focus on sustainability. Lucid Motors is known for its luxury EVs and its focus on performance. NIO is known for its community-oriented approach and its focus on innovation. Xpeng is known for its technology-focused vehicles and its focus on affordability. Li Auto is known for its family-oriented vehicles and its focus on safety.\n> \n> **Conclusion**\n> \n> Canoo is a new entrant to the EV market, but the company has a number of advantages over its competitors. Canoo has a strong team of experienced executives, and the company has developed a number of innovative EVs. Canoo also has a unique business model that is designed to appeal to consumers. If Canoo can execute on its plans, the company has the potential to become a major player in the EV market."
          },
          "metadata": {}
        },
        {
          "output_type": "display_data",
          "data": {
            "text/plain": [
              "<IPython.core.display.Markdown object>"
            ],
            "text/markdown": "> **Key Trends in the Electric Vehicle (EV) Market**\n> \n> **Introduction**\n> \n> The electric vehicle (EV) market is experiencing rapid growth due to increasing environmental concerns, government incentives, and technological advancements. This report identifies key trends in the EV market, including changes in consumer behavior, technological advancements, and shifts in the competitive landscape.\n> \n> **Changes in Consumer Behavior**\n> \n> * **Increasing consumer awareness of environmental issues:** Consumers are becoming increasingly aware of the environmental impact of fossil fuel-powered vehicles and are looking for more sustainable alternatives.\n> * **Growing demand for EVs among younger generations:** Younger generations are more likely to be environmentally conscious and are more likely to purchase EVs.\n> * **Shift towards ride-sharing and car-sharing:** Ride-sharing and car-sharing services are becoming increasingly popular, which is reducing the need for car ownership and making EVs more accessible to consumers.\n> \n> **Technological Advancements**\n> \n> * **Improvements in battery technology:** Battery technology is improving rapidly, which is increasing the range and performance of EVs.\n> * **Development of new EV models:** Automakers are developing a wide range of new EV models, including sedans, SUVs, and pickup trucks.\n> * **Advancements in charging infrastructure:** The charging infrastructure for EVs is expanding rapidly, making it easier for consumers to charge their vehicles.\n> \n> **Shifts in the Competitive Landscape**\n> \n> * **Entry of new players:** New players are entering the EV market, including startups and traditional automakers.\n> * **Collaboration between automakers and technology companies:** Automakers are partnering with technology companies to develop and manufacture EVs.\n> * **Government support for EV adoption:** Governments around the world are providing incentives for EV adoption, such as tax breaks and subsidies.\n> \n> **Facts and Numbers**\n> \n> * The global EV market is expected to grow from $384.65 billion in 2022 to $1,579.10 billion in 2030, at a CAGR of 17.8%.\n> * China is the largest market for EVs, accounting for over 50% of global sales.\n> * The United States is the second largest market for EVs, with sales growing rapidly.\n> * Europe is also a major market for EVs, with several countries offering incentives for EV adoption.\n> \n> **Conclusion**\n> \n> The EV market is undergoing rapid growth due to a combination of changing consumer behavior, technological advancements, and shifts in the competitive landscape. Consumers are becoming more aware of environmental issues and are looking for more sustainable alternatives to fossil fuel-powered vehicles. Automakers are developing a wide range of new EV models and improving battery technology. Governments around the world are also providing incentives for EV adoption. As a result, the EV market is expected to continue to grow rapidly in the coming years.\n> \n> **References**\n> \n> * Fortune Business Insights. (2023). Electric Vehicle Market Size, Share & Industry Analysis, By Component (Battery, Motor, Power Electronics, Others), By Vehicle Type (Passenger Cars, Commercial Vehicles), By Vehicle Class (A-Class, B-Class, C-Class, D-Class, Others), By Top Speed (<100 Kmph, 100-150 Kmph, >150 Kmph), By Vehicle Drive Type (BEV, PHEV, FCEV), By EV Charging Point Type (AC Charging, DC Charging, Others), By Vehicle Connectivity (Yes, No), By End Use (Personal Use, Commercial Use), By Propulsion (Battery Electric, Plug-in Hybrid, Fuel Cell), and Region (North America, Europe, Asia Pacific, Middle East & Africa, South America), Forecast 2023-2030.\n> * International Energy Agency. (2023). Global EV Outlook 2023.\n> * McKinsey & Company. (2022). Electric Vehicles: The Future of Mobility."
          },
          "metadata": {}
        },
        {
          "output_type": "display_data",
          "data": {
            "text/plain": [
              "<IPython.core.display.Markdown object>"
            ],
            "text/markdown": "> ## Canoo's Financial Performance: An In-Depth Analysis\n> \n> ### Introduction\n> \n> Canoo Inc. is a Southern California-based electric vehicle manufacturer founded in 2017. The company designs, develops, and manufactures electric vehicles for commercial and personal use. Canoo has a unique business model that focuses on subscription-based ownership rather than traditional vehicle sales.\n> \n> ### Revenue\n> \n> Canoo's revenue has grown significantly in recent years. In 2022, the company reported revenue of $1.2 million, up from $25 million in 2021. This growth was primarily driven by the increased production and delivery of the company's Lifestyle Vehicle.\n> \n> Canoo's revenue is expected to continue to grow in the coming years. The company has a strong order book of over 17,000 vehicles. In addition, Canoo is planning to launch several new vehicles in the coming years, including a pickup truck and a delivery van.\n> \n> ### Profitability\n> \n> Canoo is not yet profitable, but the company is expected to achieve profitability in 2024. The company's gross profit margin has improved significantly in recent quarters, and Canoo is expected to achieve a positive EBITDA margin in 2024.\n> \n> Canoo's profitability will be driven by several factors, including increased production volumes, cost reductions, and the launch of new vehicles. The company is also exploring new revenue streams, such as subscription-based services and software sales.\n> \n> ### Return on Investment (ROI)\n> \n> Canoo's ROI is difficult to calculate, as the company is not yet profitable. However, the company's strong order book and future growth prospects suggest that Canoo is a good investment for long-term investors.\n> \n> ### Expense Structure\n> \n> Canoo's expense structure is typical of a pre-revenue company. The company's largest expenses are research and development (R&D) and sales and marketing (S&M).\n> \n> Canoo's R&D expenses are primarily related to the development of the company's electric vehicles. The company is also investing in new technologies, such as autonomous driving and battery technology.\n> \n> Canoo's S&M expenses are primarily related to the marketing and sale of the company's vehicles. The company is also investing in building a nationwide sales and service network.\n> \n> ### Financial Outlook\n> \n> Canoo's financial outlook is positive. The company has a strong order book and is expected to achieve profitability in 2024. Canoo is also exploring new revenue streams and is investing in new technologies.\n> \n> ### Conclusion\n> \n> Canoo is a promising electric vehicle company with a strong financial outlook. The company has a strong order book, is expected to achieve profitability in 2024, and is exploring new revenue streams. Canoo is a good investment for long-term investors.\n> \n> ### References\n> \n> 1. Canoo Inc. (2023, March 8). Form 10-K. Retrieved from https://www.sec.gov/ix?doc=/Archives/edgar/data/1822341/000119312523049543/d1822341d10k.htm\n> 2. Canoo Inc. (2023, August 4). Form 10-Q. Retrieved from https://www.sec.gov/Archives/edgar/data/1822341/000119312523165067/d1822341d10q.htm"
          },
          "metadata": {}
        }
      ]
    },
    {
      "cell_type": "code",
      "source": [
        "with open(\"report.md\", 'w') as report:\n",
        "  report.write(\"\".join(response))"
      ],
      "metadata": {
        "id": "vohtZC-QJ82n"
      },
      "execution_count": 231,
      "outputs": []
    },
    {
      "cell_type": "markdown",
      "source": [
        "# FINAL REPORT IN MARKDOWN FORMAT"
      ],
      "metadata": {
        "id": "JsUdgDBXL62h"
      }
    },
    {
      "cell_type": "markdown",
      "source": [
        "**Industry Overview**\n",
        "\n",
        "Canoo EV operates within the electric vehicle (EV) industry, a rapidly growing market driven by increasing demand for sustainable transportation solutions. The industry is characterized by advancements in EV technology, rising consumer awareness, and government initiatives promoting EV adoption.\n",
        "\n",
        "**Market Size**\n",
        "\n",
        "As of 2023, the global EV market is estimated to be around 12.8 million units in volume. This market is expected to grow exponentially over the next decade, reaching an estimated 100 million units by 2030.\n",
        "\n",
        "**Growth Rate**\n",
        "\n",
        "The EV market is experiencing a significant growth rate, projected to expand at a compound annual growth rate (CAGR) of over 20% from 2023 to 2030. This growth is fueled by factors such as rising fuel prices, environmental concerns, and increasing government support.\n",
        "\n",
        "**Trends**\n",
        "\n",
        "* **Shift towards electric mobility:** Governments and consumers are increasingly recognizing the benefits of electric vehicles, leading to a shift away from gasoline-powered vehicles.\n",
        "* **Advancements in EV technology:** Innovations in battery technology, charging infrastructure, and EV design are enhancing EV performance, range, and affordability.\n",
        "* **Growing popularity of subscription models:** Subscription-based services are gaining traction in the EV market, providing consumers with flexible and affordable access to electric vehicles.\n",
        "* **Rise of electric commercial vehicles:** The adoption of electric vehicles is expanding into commercial sectors, including delivery, ride-hailing, and logistics.\n",
        "\n",
        "**Key Players**\n",
        "\n",
        "Major players in the EV market include:\n",
        "\n",
        "* Tesla\n",
        "* BYD\n",
        "* Volkswagen\n",
        "* Ford\n",
        "* General Motors\n",
        "* Toyota\n",
        "* Hyundai\n",
        "* Kia\n",
        "* Canoo EV\n",
        "\n",
        "**Canoo EV's Product Strategy**\n",
        "\n",
        "Canoo EV differentiates itself in the market by focusing on modular platform architecture and innovative designs. The company's modular platform allows for the development of a variety of vehicle types, including delivery vans, lifestyle vehicles, and multipurpose vehicles. Canoo EV's designs prioritize space utilization, versatility, and sustainability.\n",
        "\n",
        "**Canoo EV's Marketing Strategy**\n",
        "\n",
        "Canoo EV employs a multi-channel marketing strategy to reach its target audience. The company utilizes a combination of online and offline channels, including:\n",
        "\n",
        "* Digital marketing: Search engine optimization (SEO), social media, and paid advertising\n",
        "* Experiential marketing: Pop-up events, test drives, and ride-and-drive experiences\n",
        "* Partnerships with dealerships and ride-sharing companies\n",
        "* Public relations: Media outreach and industry events\n",
        "\n",
        "**Canoo EV's Financial Performance**\n",
        "\n",
        "As a publicly traded company, Canoo EV reports its financial performance regularly. The company's revenue has been growing steadily, and it recently reported a significant increase in vehicle deliveries. Canoo EV's financial performance is closely tied to the overall growth and demand in the EV market.\n",
        "\n",
        "**Canoo EV's Future Outlook**\n",
        "\n",
        "Canoo EV is well-positioned to capitalize on the growing EV market. The company's focus on innovation, strategic partnerships, and subscription-based business model provides a competitive advantage. Canoo EV has a strong pipeline of upcoming vehicle models and a clear path to profitability.**Canoo's Competitors**\n",
        "\n",
        "Canoo faces competition from a number of established electric vehicle manufacturers, as well as startups that are also developing new electric vehicles. Some of Canoo's key competitors include:\n",
        "\n",
        "* **Tesla** is the world's leading electric vehicle manufacturer, with a lineup of vehicles that includes the Model S, Model 3, Model X, and Model Y. Tesla is also known for its advanced Autopilot driver assistance system and its extensive network of Supercharger charging stations.\n",
        "* **Rivian** is a startup that is developing a lineup of electric pickup trucks and SUVs. Rivian's vehicles are designed to be rugged and off-road capable, and they come with a variety of features that are tailored to outdoor enthusiasts.\n",
        "* **Lucid** is a startup that is developing a lineup of luxury electric vehicles. Lucid's vehicles are designed to be spacious, comfortable, and technologically advanced.\n",
        "* **NIO** is a Chinese electric vehicle manufacturer that is known for its high-performance vehicles. NIO's vehicles come with a variety of features that are designed to appeal to luxury buyers, such as advanced infotainment systems and premium interiors.\n",
        "* **Xpeng** is a Chinese electric vehicle manufacturer that is known for its affordable vehicles. Xpeng's vehicles come with a variety of features that are designed to appeal to budget-minded consumers, such as long range and fast charging capabilities.\n",
        "\n",
        "**Market Share**\n",
        "\n",
        "According to a report by CleanTechnica, Tesla is the world's leading electric vehicle manufacturer, with a market share of 21%. Rivian is the second-largest electric vehicle manufacturer, with a market share of 11%. Lucid is the third-largest electric vehicle manufacturer, with a market share of 10%. NIO is the fourth-largest electric vehicle manufacturer, with a market share of 8%. Xpeng is the fifth-largest electric vehicle manufacturer, with a market share of 7%.\n",
        "\n",
        "**Products or Services Offered**\n",
        "\n",
        "Canoo offers a lineup of electric vehicles that includes the Lifestyle Vehicle, the MPDV, and the Pickup Truck. The Lifestyle Vehicle is a compact electric SUV that is designed for urban commuting. The MPDV is a larger electric van that is designed for commercial use. The Pickup Truck is an electric pickup truck that is designed for both work and play.\n",
        "\n",
        "**Pricing Strategies**\n",
        "\n",
        "Canoo's pricing strategies vary depending on the model and trim level. The Lifestyle Vehicle starts at $34,750. The MPDV starts at $33,000. The Pickup Truck starts at $39,950.\n",
        "\n",
        "**Promotion Strategies**\n",
        "\n",
        "Canoo uses a variety of promotion strategies to reach its target market. These strategies include:\n",
        "\n",
        "* **Online advertising:** Canoo uses online advertising to reach potential customers who are searching for information about electric vehicles.\n",
        "* **Social media:** Canoo uses social media to connect with potential customers and share information about its products and services.\n",
        "* **Public relations:** Canoo uses public relations to generate positive media coverage of its products and services.\n",
        "* **Events:** Canoo participates in a variety of events, such as trade shows and auto shows, to showcase its products and services to potential customers.## Key Trends in the EV Market\n",
        "\n",
        "The electric vehicle (EV) market is experiencing significant growth, driven by a variety of factors. Here are some key trends that are shaping the industry:\n",
        "\n",
        "**Changes in Consumer Behavior**\n",
        "\n",
        "* Increasing environmental consciousness: Consumers are becoming more aware of the environmental impact of their transportation choices and are seeking out ways to reduce their carbon footprint.\n",
        "* Growing demand for affordable and fuel-efficient vehicles: As the cost of owning and operating an EV continues to decline, more consumers are considering them as a viable option.\n",
        "* Technological advancement: The development of new battery technologies and the improvement of charging infrastructure has helped to address some of the concerns that consumers have about the practicality of owning an EV.\n",
        "\n",
        "**Technological Advancements**\n",
        "\n",
        "* Longer driving range: New battery technologies have extended the range of the average EV, making them more convenient for daily use.\n",
        "* Faster charging times: The development of new charging technologies has reduced the time it takes to charge an EV, making them more convenient for on-the-go charging.\n",
        "* Advanced safety features: As the EV market matures, manufacturers are incorporating more advanced safety features into their vehicles, including lane departure warning systems, automatic emergency braking, and adaptive cruise control.\n",
        "\n",
        "**Shifts in the Competitive Landscape**\n",
        "\n",
        "* The EV market is becoming increasingly competitive, with new players entering the market and established automakers investing heavily in developing their own EV offerings.\n",
        "* Traditional automakers are partnering with technology companies to develop new and innovative EV technologies.\n",
        "\n",
        "## Future Outlook\n",
        "\n",
        "The EV market is expected to continue to grow in the coming years, driven by the increasing demand for sustainable and efficient transportation options. However, the market may face some challenges, such as the high cost of EV batteries and the need for a more robust charging infrastructure. Nevertheless, the long-term outlook for the EV market is positive, as governments and consumers continue to support the transition to a more sustainable transportation system.**Canoo EV's Financial Performance**\n",
        "\n",
        "**Revenue**\n",
        "\n",
        "* $1.2 million in revenue reported in the first quarter of 2022\n",
        "* $25 million in revenue from sales and distribution channels as of 2023\n",
        "\n",
        "**Profit Margins**\n",
        "\n",
        "* Not currently profitable\n",
        "\n",
        "**Return on Investment (ROI)**\n",
        "\n",
        "* Financial data was not available to calculate ROI\n",
        "\n",
        "**Expense Structure**\n",
        "\n",
        "* **Product Development:** Focused on designing and developing electric vehicles with innovative features, such as a flat \"skateboard\" platform.\n",
        "* **Manufacturing:** outsources vehicle production to VDL Nedcar in the Netherlands.\n",
        "* **Marketing and Sales:** Uses a combination of online and offline channels to reach customers.\n",
        "* **General and Administrative (G&A):** Includes salaries, rent, and other operating expenses.\n",
        "\n",
        "**Canoo EV's Financial Performance Drivers**\n",
        "\n",
        "**Product Strategy**\n",
        "\n",
        "* Focus on developing modular electric vehicles that can be customized to meet various needs.\n",
        "* Unique \"skateboard\" platform enables maximum interior space and adaptability.\n",
        "\n",
        "**Business Model**\n",
        "\n",
        "* Subscription-based model offers flexibility and convenience to customers.\n",
        "* All-inclusive subscription includes maintenance, warranty, registration, and access to insurance and vehicle charging.\n",
        "\n",
        "**Market Positioning**\n",
        "\n",
        "* Target market includes both consumers and businesses.\n",
        "* Emphasis on affordable and sustainable electric vehicles.\n",
        "\n",
        "**Challenges**\n",
        "\n",
        "* Competition from established automakers\n",
        "* High development and production costs\n",
        "* Limited charging infrastructure\n",
        "* Supply chain disruptions\n",
        "\n",
        "**Market Outlook**\n",
        "\n",
        "* The electric vehicle market is expected to grow significantly in the coming years, driven by factors such as:\n",
        "    * Government incentives\n",
        "    * Consumer demand for sustainable transportation\n",
        "    * Technological advancements and cost reductions\n",
        "\n",
        "Canoo EV is well-positioned to benefit from this market growth by leveraging its unique product offerings and innovative business model. However, the company faces strong competition and will need to execute its strategy effectively to succeed."
      ],
      "metadata": {
        "id": "YtuWEayxKQgG"
      }
    }
  ],
  "metadata": {
    "colab": {
      "provenance": [],
      "authorship_tag": "ABX9TyPnB8u9851UhKnD7L0Y/waL",
      "include_colab_link": true
    },
    "kernelspec": {
      "display_name": "Python 3",
      "name": "python3"
    },
    "language_info": {
      "name": "python"
    }
  },
  "nbformat": 4,
  "nbformat_minor": 0
}