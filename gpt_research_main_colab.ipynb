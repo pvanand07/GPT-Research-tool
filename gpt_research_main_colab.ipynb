{
  "cells": [
    {
      "cell_type": "markdown",
      "metadata": {
        "id": "view-in-github",
        "colab_type": "text"
      },
      "source": [
        "<a href=\"https://colab.research.google.com/github/pvanand07/GPT-Research-tool/blob/master/gpt_research_main_colab.ipynb\" target=\"_parent\"><img src=\"https://colab.research.google.com/assets/colab-badge.svg\" alt=\"Open In Colab\"/></a>"
      ]
    },
    {
      "cell_type": "markdown",
      "source": [
        "# Market Research on Canoo ev"
      ],
      "metadata": {
        "id": "DE4JX5HIPqA-"
      }
    },
    {
      "cell_type": "markdown",
      "source": [
        "## Summary\n",
        "This solution involves creating research questions from user query, gathering website data through Google Custom Search API and web scraping, processing data using NLP, using vector embeddings and semantic search to obtain relevant information and generating insights with generative AI.\n",
        "\n",
        "### API's required\n",
        "- google_search_api || Get your Google Search API key from [here](https://developers.google.com/custom-search/v1/overview) (free) (LIMIT:100 queries/day)\n",
        "- cse_id || Obtain your Custom Search Engine ID from [here](https://programmablesearchengine.google.com/controlpanel/all) (free)\n",
        "- GEMINI_API_KEY || Get your GEMINI API key from [here](https://aistudio.google.com/app/apikey) (free) (LIMIT:100 queries/hour)\n",
        "\n"
      ],
      "metadata": {
        "id": "R58OOovC8DDD"
      }
    },
    {
      "cell_type": "markdown",
      "source": [
        "## Steps Involved in Creating the Solution\n",
        "\n",
        "### Install and Import Libraries:\n",
        "Installing necessary Python packages like `google-generativeai` for accessing Google's generative AI models and `qdrant-client` for leveraging Qdrant's capabilities for fast embeddings on CPU. Essential libraries like `nltk`, `requests`, `bs4` (BeautifulSoup), and others are imported for text processing and web scraping.\n",
        "\n",
        "### Define Research Questions:\n",
        "The project aims to analyze Canoo EV's industry, competitors, market trends, and financial performance through a set of predefined research questions.\n",
        "\n",
        "### Data Gathering:\n",
        "- Utilizing Google's Custom Search API to gather data based on generated search queries relevant to the research questions.\n",
        "- Scraping web content using BeautifulSoup for detailed analysis.\n",
        "\n",
        "### Data Processing:\n",
        "- Tokenizing and cleaning the scraped data using `nltk`.\n",
        "- Organizing data into a structured format (dictionary) for analysis.\n",
        "\n",
        "### Analysis and Report Generation:\n",
        "- Employing generative AI (Gemini model from Google Generative AI) to interpret the gathered data and generate insights.\n",
        "- Writing the insights into a markdown file as a comprehensive report.\n",
        "\n",
        "## Techniques and Libraries Used\n",
        "\n",
        "- **Natural Language Processing (NLP):** Used for generating multiple research queries for the user question, processing text data, and summarizing content. Libraries like `nltk` for tokenization and `google.generativeai` for generating content based on questions.\n",
        "- **APIs for Data Gathering:** Google's Custom Search API for fetching relevant online links for research queries.\n",
        "- **Web Scraping:** Utilizing `requests` and `BeautifulSoup` to extract information from web pages.\n",
        "- **Concurrent Processing:** Using `ThreadPoolExecutor` for efficient data gathering and processing.\n",
        "- **Qdrant Client:** For leveraging fast embeddings using quantization and semantic search.\n",
        "- **sentence-transformers/all-MiniLM-L6-v2:** Maps sentences & paragraphs to a 384 dimensional dense vector space."
      ],
      "metadata": {
        "id": "LzHoN8lS8v5j"
      }
    },
    {
      "cell_type": "markdown",
      "source": [
        "## 1. Install Required Libraries"
      ],
      "metadata": {
        "id": "qt0lZNrS-RU8"
      }
    },
    {
      "cell_type": "code",
      "source": [
        "# To Measure Notebook runtime\n",
        "import time\n",
        "start_time = time.time()"
      ],
      "metadata": {
        "id": "x1IEojlT6zNO"
      },
      "execution_count": 10,
      "outputs": []
    },
    {
      "cell_type": "code",
      "execution_count": 11,
      "metadata": {
        "id": "w9q7EL6s07kM"
      },
      "outputs": [],
      "source": [
        "# Requirements\n",
        "!pip install -U google-generativeai -q\n",
        "# qdrant utilizes quantized models for fast inference on cpu\n",
        "!pip install qdrant-client[fastembed] -q"
      ]
    },
    {
      "cell_type": "markdown",
      "source": [
        "## 2. Define Imports and Constants"
      ],
      "metadata": {
        "id": "xsPdcQ7F-Ee1"
      }
    },
    {
      "cell_type": "code",
      "source": [
        "research_questions = [\n",
        "    \"Identify the industry in which Canoo ev operates, along with its size, growth rate, trends, and key players.\",\n",
        "    \"Analyze Canoo ev's main competitors, including their market share, products or services offered, pricing strategies, and marketing efforts.\",\n",
        "    \"Identify key trends in the ev market, including changes in consumer behavior, technological advancements, and shifts in the competitive landscape.\",\n",
        "    \"Gather information on Canoo ev's financial performance, including its revenue, profit margins, return on investment, and expense structure.\"\n",
        "]"
      ],
      "metadata": {
        "id": "rUuB-FlqFI_P"
      },
      "execution_count": 12,
      "outputs": []
    },
    {
      "cell_type": "code",
      "execution_count": 13,
      "metadata": {
        "colab": {
          "base_uri": "https://localhost:8080/"
        },
        "id": "06c0Hntv6cpd",
        "outputId": "bdacfb21-c791-465d-d945-22449da01cce"
      },
      "outputs": [
        {
          "output_type": "stream",
          "name": "stderr",
          "text": [
            "[nltk_data] Downloading package punkt to /root/nltk_data...\n",
            "[nltk_data]   Package punkt is already up-to-date!\n"
          ]
        }
      ],
      "source": [
        "import nltk\n",
        "nltk.download('punkt')\n",
        "from google.colab import userdata\n",
        "import requests\n",
        "from IPython.display import display\n",
        "from IPython.display import Markdown\n",
        "import pathlib\n",
        "import textwrap\n",
        "import google.generativeai as genai\n",
        "from googleapiclient.discovery import build\n",
        "from nltk.tokenize import sent_tokenize\n",
        "import ast\n",
        "import json\n",
        "from qdrant_client import QdrantClient\n",
        "from concurrent.futures import ThreadPoolExecutor\n",
        "from functools import partial\n",
        "import requests\n",
        "from bs4 import BeautifulSoup\n",
        "\n",
        "\n",
        "my_api_key = userdata.get('google_search_api') # Get your Google Search API key from here (free) (LIMIT:100 queries/day): https://developers.google.com/custom-search/v1/overview\n",
        "my_cse_id = userdata.get('cse_id') # Obtain your Custom Search Engine ID from here (free): https://programmablesearchengine.google.com/controlpanel/all\n",
        "GEMINI_API_KEY = userdata.get('gemini_api') # Get your GEMINI API key from here (free) (LIMIT:100 queries/hour) https://aistudio.google.com/app/apikey"
      ]
    },
    {
      "cell_type": "markdown",
      "source": [
        "## 3. Generate Research Questions"
      ],
      "metadata": {
        "id": "pDSJSy0T-YBa"
      }
    },
    {
      "cell_type": "code",
      "execution_count": 14,
      "metadata": {
        "id": "a2ec4wx_ngCO"
      },
      "outputs": [],
      "source": [
        "def google_search(search_term, api_key, cse_id, **kwargs):\n",
        "    \"\"\"\n",
        "    Perform a Google custom search for a given search term using a specific API key and Custom Search Engine ID.\n",
        "\n",
        "    Args:\n",
        "        search_term (str): The query or term to search for.\n",
        "        api_key (str): The API key to authenticate with Google's Custom Search API.\n",
        "        cse_id (str): The Custom Search Engine ID to specify which search engine to use.\n",
        "        **kwargs: Arbitrary keyword arguments that are passed to the custom search engine list method.\n",
        "\n",
        "    Returns:\n",
        "        dict: The search result in a dictionary format.\n",
        "    \"\"\"\n",
        "    service = build(\"customsearch\", \"v1\", developerKey=api_key)\n",
        "    res = service.cse().list(q=search_term, cx=cse_id, **kwargs).execute()\n",
        "    return res\n",
        "\n",
        "def to_markdown(text):\n",
        "    \"\"\"\n",
        "    Convert text to Markdown format.\n",
        "    Args: text (str): The text to convert to Markdown.\n",
        "    Returns: str: The text converted to Markdown format.\n",
        "    \"\"\"\n",
        "    text = text.replace('•', '  *')\n",
        "    return Markdown(textwrap.indent(text, '> ', predicate=lambda _: True))\n",
        "\n",
        "def ask_gemini(prompt, GEMINI_API_KEY):\n",
        "    \"\"\"\n",
        "    Generate a response for the given prompt using the Gemini AI model.\n",
        "    Args:\n",
        "        prompt (str): The input prompt to generate a response for.\n",
        "        GEMINI_API_KEY (str): The API key for accessing the Gemini AI service.\n",
        "    Returns:\n",
        "        str: The response generated by the Gemini AI model.\n",
        "    \"\"\"\n",
        "    genai.configure(api_key=GEMINI_API_KEY)\n",
        "    model = genai.GenerativeModel('gemini-pro')\n",
        "    response = model.generate_content(prompt)\n",
        "    display(to_markdown(response.text))\n",
        "\n",
        "    return response.text"
      ]
    },
    {
      "cell_type": "code",
      "execution_count": 15,
      "metadata": {
        "id": "Fvzch-kkz5bA"
      },
      "outputs": [],
      "source": [
        "def generate_search_queries_prompt(question, max_iterations=6):\n",
        "    \"\"\" Generates the search queries prompt for the given question.\n",
        "    Args: question (str): The question to generate the search queries prompt for\n",
        "    Returns: str: The search queries prompt for the given question\n",
        "    \"\"\"\n",
        "\n",
        "    return 'Follow the instructions'\\\n",
        "           f'1. Write {max_iterations} google search queries to search online that form an objective opinion from the following: \"{question}\"' \\\n",
        "           f'2. output only the list of search queries in the format: [\"query 1\", \"query 2\", ...].'\n",
        "\n",
        "\n",
        "def generate_report_prompt(question, context, report_format=\"apa\", total_words=1000):\n",
        "    \"\"\" Generates the report prompt for the given question and research summary.\n",
        "    Args: question (str): The question to generate the report prompt for\n",
        "            research_summary (str): The research summary to generate the report prompt for\n",
        "    Returns: str: The report prompt for the given question and research summary\n",
        "    \"\"\"\n",
        "\n",
        "    return f'Using the Information: \"\"\"{context}\"\"\"\\n\\n' \\\n",
        "           f'answer the following' \\\n",
        "           f'query : \"{question}\" in a detailed report --' \\\n",
        "           f\"with facts and numbers if available and a minimum of {total_words} words.\\n\" \\\n",
        "           f\"You MUST write the report in {report_format} format.\\n \""
      ]
    },
    {
      "cell_type": "code",
      "execution_count": 16,
      "metadata": {
        "colab": {
          "base_uri": "https://localhost:8080/",
          "height": 226
        },
        "id": "TpdcwPsh0MjW",
        "outputId": "f47e4a99-3fff-48ff-8d0f-4bd91c81fc53"
      },
      "outputs": [
        {
          "output_type": "display_data",
          "data": {
            "text/plain": [
              "<IPython.core.display.Markdown object>"
            ],
            "text/markdown": "> [\"Industry in which Canoo ev operates\", \"Size of the electric vehicle industry\", \"Growth rate of the electric vehicle industry\", \"Trends in the electric vehicle industry\", \"Key players in the electric vehicle industry\", \"Canoo ev competitors\"]"
          },
          "metadata": {}
        },
        {
          "output_type": "display_data",
          "data": {
            "text/plain": [
              "<IPython.core.display.Markdown object>"
            ],
            "text/markdown": "> [\"Canoo EV competitors market share\", \"Canoo EV competitors products and services\", \"Canoo EV competitors pricing strategies\", \"Canoo EV competitors marketing efforts\", \"Compare Canoo EV with competitors\", \"Canoo EV industry analysis\"]"
          },
          "metadata": {}
        },
        {
          "output_type": "display_data",
          "data": {
            "text/plain": [
              "<IPython.core.display.Markdown object>"
            ],
            "text/markdown": "> [\"Current Trends in the Electric Vehicle Market\", \"Consumer Behavior Changes in EV Adoption\", \"Technological Advancements in Electric Vehicles\", \"Shifts in EV Competitive Landscape\", \"Key Trends in the EV Industry\", \"Emerging Opportunities in the Electric Vehicle Market\"]"
          },
          "metadata": {}
        },
        {
          "output_type": "display_data",
          "data": {
            "text/plain": [
              "<IPython.core.display.Markdown object>"
            ],
            "text/markdown": "> [\"Canoo financial performance revenue\", \"Canoo profit margins\", \"Canoo return on investment\", \"Canoo expense structure\", \"Canoo financial analysis\", \"Canoo financial data\"]"
          },
          "metadata": {}
        }
      ],
      "source": [
        "def generate_search_queries(research_questions):\n",
        "    \"\"\"\n",
        "    Generate search queries for a list of research questions using the Gemini AI model.\n",
        "\n",
        "    Args:\n",
        "        research_questions (list of str): A list of research questions to generate search queries for.\n",
        "\n",
        "    Returns:\n",
        "        dict: A dictionary mapping each research question to its corresponding generated search queries.\n",
        "    \"\"\"\n",
        "    research_queries_dict ={}\n",
        "    for question in research_questions:\n",
        "      question_prompt = generate_search_queries_prompt(question)\n",
        "      research_queries_dict[question] = ask_gemini(question_prompt,GEMINI_API_KEY)\n",
        "\n",
        "    return research_queries_dict\n",
        "\n",
        "\n",
        "def generate_research_query_list(research_queries_dict):\n",
        "    \"\"\"\n",
        "    Generate a list of research queries from the output of the Gemini AI model.\n",
        "\n",
        "    Args:\n",
        "        research_queries_dict (dict): A dictionary mapping research questions to their corresponding Gemini-generated queries.\n",
        "\n",
        "    Returns:\n",
        "        dict: A dictionary mapping each research question to a list of generated research queries.\n",
        "    \"\"\"\n",
        "    # Convert Gemini output from string to list\n",
        "    research_queries_dict_list = {}\n",
        "    for question, research_queries in research_queries_dict.items():\n",
        "      if research_queries and research_queries.strip():  # Check if the input is not null or empty\n",
        "          try:\n",
        "              research_queries_dict_list[question] = ast.literal_eval(research_queries)\n",
        "\n",
        "          except SyntaxError or ValueError:\n",
        "              # If ast.literal_eval() fails due to syntax error, tokenize the string into sentences using NLTK\n",
        "              research_queries_dict_list[question] = sent_tokenize(research_queries)\n",
        "              if len(research_queries_dict_list[question]) == 1:\n",
        "                research_queries_dict_list[question] = research_queries.split('\\n')\n",
        "      else:\n",
        "          print(\"Input ask_gemini(question)-->research_queries is null or empty. Passing...\")\n",
        "\n",
        "    return research_queries_dict_list\n",
        "\n",
        "research_queries_dict = generate_search_queries(research_questions)\n",
        "research_queries_dict_list = generate_research_query_list(research_queries_dict)"
      ]
    },
    {
      "cell_type": "markdown",
      "source": [
        "## 4. Extracting relevant links using Google Search"
      ],
      "metadata": {
        "id": "0dm-5O4N-eba"
      }
    },
    {
      "cell_type": "code",
      "execution_count": 17,
      "metadata": {
        "id": "Kr0WEoUmEuSV",
        "colab": {
          "base_uri": "https://localhost:8080/"
        },
        "outputId": "26841476-6d5d-40be-feae-fdb46beac983"
      },
      "outputs": [
        {
          "output_type": "stream",
          "name": "stdout",
          "text": [
            "Dictionary saved as JSON file: research_links_google.json\n"
          ]
        }
      ],
      "source": [
        "def extract_data_from_google_search_results(research_queries_dict_list):\n",
        "    \"\"\"\n",
        "    Extract data from Google search results based on the provided research query list.\n",
        "\n",
        "    Args:\n",
        "        research_queries_dict_list (dict): A dictionary mapping research questions to a list of generated research queries.\n",
        "\n",
        "    Returns:\n",
        "        dict: A dictionary containing Google search results, where keys are the search queries and values are the corresponding search results.\n",
        "    \"\"\"\n",
        "    # Using the search queries to perform google search and extract links\n",
        "    research_links_google = {}\n",
        "\n",
        "    for question, research_queries_list in research_queries_dict_list.items():\n",
        "      for research_query in research_queries_list:\n",
        "        research_links_google[research_query] = google_search(research_query, my_api_key, my_cse_id, num=2)\n",
        "\n",
        "    # Writing google search results dictionary to a JSON file\n",
        "    with open(\"research_links_google.json\", 'w') as json_file:\n",
        "        json.dump(research_links_google, json_file)\n",
        "\n",
        "    print(f\"Dictionary saved as JSON file: research_links_google.json\")\n",
        "\n",
        "    return research_links_google\n",
        "\n",
        "research_links_google = extract_data_from_google_search_results(research_queries_dict_list)"
      ]
    },
    {
      "cell_type": "code",
      "execution_count": 18,
      "metadata": {
        "id": "sPnEoIgiOBSC"
      },
      "outputs": [],
      "source": [
        "def extract_links(research_links_google):\n",
        "    \"\"\"\n",
        "    Extract links from the Google search results stored in a dictionary.\n",
        "\n",
        "    Args:\n",
        "        research_links_google (dict): A dictionary containing Google search results.\n",
        "\n",
        "    Returns:\n",
        "        list: A list of URLs extracted from the search results.\n",
        "    \"\"\"\n",
        "    # Load the search results from the JSON file\n",
        "    # File path to the JSON file\n",
        "    file_path = \"/content/research_links_google.json\"\n",
        "\n",
        "    # Loading JSON file as dictionary\n",
        "    with open(file_path, 'r') as json_file:\n",
        "        research_links_google1 = json.load(json_file)\n",
        "\n",
        "\n",
        "    topics_dict_list = [research_links_google[k] for k, v in research_links_google.items()] # 24 Topics x 2 URLS\n",
        "\n",
        "    links_list = []\n",
        "    for topic_dict in topics_dict_list:\n",
        "      try:\n",
        "        for item in topic_dict['items']:\n",
        "          links_list.append(item['link'])\n",
        "      except:\n",
        "        pass\n",
        "\n",
        "    return links_list\n",
        "\n",
        "links_list = extract_links(research_links_google)"
      ]
    },
    {
      "cell_type": "markdown",
      "source": [
        "## 5. Web Scraping"
      ],
      "metadata": {
        "id": "Tau9Fsj9_In-"
      }
    },
    {
      "cell_type": "code",
      "execution_count": 19,
      "metadata": {
        "id": "8xjsI2LW6VzK"
      },
      "outputs": [],
      "source": [
        "# Scraper class from: https://github.com/assafelovic/gpt-researcher/blob/master/gpt_researcher/scraper/scraper.py\n",
        "\n",
        "class Scraper:\n",
        "    \"\"\"\n",
        "    Scraper class to extract the content from web page links.\n",
        "    \"\"\"\n",
        "    def __init__(self, urls, user_agent):\n",
        "        \"\"\"\n",
        "        Initialize the Scraper class.\n",
        "        Args:\n",
        "            urls (list): List of URLs to scrape.\n",
        "            user_agent (str): User agent string for the HTTP header to simulate a browser request.\n",
        "        \"\"\"\n",
        "        self.urls = urls\n",
        "        self.session = requests.Session()\n",
        "        self.session.headers.update({\n",
        "            \"User-Agent\": user_agent\n",
        "        })\n",
        "\n",
        "    def run(self):\n",
        "        \"\"\"\n",
        "        Extracts the content from the provided URLs.\n",
        "        Returns:\n",
        "            list: A list of dictionaries with URL and its corresponding raw content.\n",
        "        \"\"\"\n",
        "        partial_extract = partial(self.extract_data_from_link, session=self.session)\n",
        "        with ThreadPoolExecutor(max_workers=20) as executor:\n",
        "            contents = executor.map(partial_extract, self.urls)\n",
        "        res = [content for content in contents if content['raw_content']]\n",
        "        return res\n",
        "\n",
        "    def extract_data_from_link(self, link, session):\n",
        "        \"\"\"\n",
        "        Extracts the data from a single web page link.\n",
        "        Args:\n",
        "            link (str): URL to scrape.\n",
        "            session (requests.Session): Session object for making requests.\n",
        "        Returns:\n",
        "            dict: A dictionary with URL and its raw content.\n",
        "        \"\"\"\n",
        "        try:\n",
        "            response = session.get(link, timeout=4)\n",
        "            if response.status_code == 200:\n",
        "                soup = BeautifulSoup(response.content, 'lxml', from_encoding=response.encoding)\n",
        "                raw_content = self.scrape_text_with_bs(soup)\n",
        "                if len(raw_content) < 100:\n",
        "                    return {'url': link, 'raw_content': None}\n",
        "                return {'url': link, 'raw_content': raw_content}\n",
        "            return {'url': link, 'raw_content': None}\n",
        "        except Exception as e:\n",
        "            return {'url': link, 'raw_content': None}\n",
        "\n",
        "    def scrape_text_with_bs(self, soup):\n",
        "        \"\"\"\n",
        "        Extracts and cleans text content from a BeautifulSoup object.\n",
        "        Args:\n",
        "            soup (BeautifulSoup): BeautifulSoup object of a web page.\n",
        "        Returns:\n",
        "            str: Cleaned text content from the web page.\n",
        "        \"\"\"\n",
        "        for script_or_style in soup([\"script\", \"style\"]):\n",
        "            script_or_style.extract()  # Remove script and style elements\n",
        "\n",
        "        text = soup.get_text(separator=\"\\n\")\n",
        "        lines = (line.strip() for line in text.splitlines())\n",
        "        chunks = (phrase.strip() for line in lines for phrase in line.split(\"  \"))\n",
        "        content = \"\\n\".join(chunk for chunk in chunks if chunk)\n",
        "        return content\n"
      ]
    },
    {
      "cell_type": "code",
      "execution_count": 20,
      "metadata": {
        "id": "M0z1j4E26QGj"
      },
      "outputs": [],
      "source": [
        "def extract_and_store_data(links_list, user_agent, output_file):\n",
        "    \"\"\"\n",
        "    Extracts data from the provided URLs and stores the data as a JSON file.\n",
        "\n",
        "    Args:\n",
        "        research_links_google_list (dict): A dictionary with keys as topics and values as lists of URLs.\n",
        "        user_agent (str): User agent string for HTTP requests.\n",
        "        output_file (str): Path to the output JSON file.\n",
        "    \"\"\"\n",
        "\n",
        "    # Initialize the Scraper with URLs and a user agent\n",
        "    scraper = Scraper(links_list, user_agent)\n",
        "    # Extract data\n",
        "    data = scraper.run()\n",
        "\n",
        "    data_dict = {}\n",
        "\n",
        "    for item in data:\n",
        "      data_dict[item['url']] = item['raw_content']\n",
        "    data_dict\n",
        "\n",
        "    # Write the data to a JSON file\n",
        "    with open(output_file, 'w', encoding='utf-8') as f:\n",
        "        json.dump(data_dict, f, ensure_ascii=False, indent=4)\n",
        "\n",
        "# Usage\n",
        "user_agent = 'Mozilla/5.0 (Windows NT 10.0; Win64; x64) AppleWebKit/537.36 (KHTML, like Gecko) Chrome/58.0.3029.110 Safari/537.3'\n",
        "output_file = 'extracted_data.json'  # Specify the path to the output file\n",
        "\n",
        "# Call the function with the provided research links, user agent, and output file path\n",
        "extract_and_store_data(links_list, user_agent, output_file)\n"
      ]
    },
    {
      "cell_type": "code",
      "execution_count": 21,
      "metadata": {
        "colab": {
          "base_uri": "https://localhost:8080/"
        },
        "id": "nXTegNjD9HGP",
        "outputId": "7fdf3814-7d8d-417d-bdb5-02494a652113"
      },
      "outputs": [
        {
          "output_type": "execute_result",
          "data": {
            "text/plain": [
              "30"
            ]
          },
          "metadata": {},
          "execution_count": 21
        }
      ],
      "source": [
        "# File path to the JSON file\n",
        "file_path = \"/content/extracted_data.json\"\n",
        "\n",
        "# Loading JSON file as dictionary\n",
        "with open(file_path, 'r') as json_file:\n",
        "    extracted_data = json.load(json_file)\n",
        "len(extracted_data)"
      ]
    },
    {
      "cell_type": "markdown",
      "source": [
        "## 6. Creating Vector Embeddings"
      ],
      "metadata": {
        "id": "xcrE6b4B_PKy"
      }
    },
    {
      "cell_type": "code",
      "source": [
        "%%time\n",
        "def add_to_qdrant(extracted_data):\n",
        "    \"\"\"\n",
        "    Add data to the Qdrant vector similarity search engine.\n",
        "\n",
        "    Args:\n",
        "        extracted_data (dict): A dictionary containing extracted data where keys are URLs and values are text data.\n",
        "\n",
        "    Returns:\n",
        "        QdrantClient: An instance of the Qdrant client with the data added.\n",
        "    \"\"\"\n",
        "\n",
        "    # Initialize the Qdrant client with in-memory storage for demonstration purposes\n",
        "    client = QdrantClient(\":memory:\")  # Adjust the host and port if necessary\n",
        "    client.set_model(\"sentence-transformers/all-MiniLM-L6-v2\")\n",
        "\n",
        "    # Assuming `extracted_data` is a pre-defined dictionary with your data\n",
        "    documents = []\n",
        "    metadatas = []\n",
        "    ids = []\n",
        "\n",
        "    # Prepare your documents and metadata\n",
        "    for url, data in extracted_data.items():\n",
        "      sentences = data.split('\\n')\n",
        "\n",
        "      # Here you might need to adjust how you handle IDs to ensure they are unique integers\n",
        "      # Qdrant currently requires numeric IDs\n",
        "      for i, sentence in enumerate(sentences):\n",
        "          documents.append(sentence)\n",
        "          metadatas.append({\"url\": url+str(i)})\n",
        "          ids.append(hash(f\"{url}_{i}\"))  # Example way to generate a numeric ID\n",
        "\n",
        "    # Add documents to Qdrant\n",
        "    client.add(\n",
        "        collection_name=\"your_collection_name\",\n",
        "        documents=documents,\n",
        "        metadata=metadatas,\n",
        "        ids=ids\n",
        "    )\n",
        "    return client\n",
        "\n",
        "client = add_to_qdrant(extracted_data)"
      ],
      "metadata": {
        "colab": {
          "base_uri": "https://localhost:8080/"
        },
        "id": "tl-BSbU7Qf5H",
        "outputId": "5cdb2075-274c-4d2f-a8ca-8ebde330bb40"
      },
      "execution_count": 22,
      "outputs": [
        {
          "output_type": "stream",
          "name": "stderr",
          "text": [
            "100%|██████████| 83.2M/83.2M [00:01<00:00, 68.4MiB/s]\n"
          ]
        },
        {
          "output_type": "stream",
          "name": "stdout",
          "text": [
            "CPU times: user 5min 40s, sys: 1.88 s, total: 5min 42s\n",
            "Wall time: 6min 2s\n"
          ]
        }
      ]
    },
    {
      "cell_type": "markdown",
      "source": [
        "## 7. Vector Similarity Search using Qdrant Client"
      ],
      "metadata": {
        "id": "x2LRWZXK_i2x"
      }
    },
    {
      "cell_type": "code",
      "source": [
        "def query_index(client,collection_name, query_text, limit=100):\n",
        "    \"\"\" Query the index with the given client and query text.\n",
        "    \"\"\"\n",
        "\n",
        "    search_result = client.query(\n",
        "    collection_name=collection_name,\n",
        "    query_text=query_text, limit= limit\n",
        "    )\n",
        "    context = \"\".join(set([\"\".join(result.metadata['document']) for result in search_result]))\n",
        "\n",
        "    return context"
      ],
      "metadata": {
        "id": "sNNT8E1PU4D8"
      },
      "execution_count": 23,
      "outputs": []
    },
    {
      "cell_type": "markdown",
      "source": [
        "## 8. Generate a detailed Research Report using GEMINI"
      ],
      "metadata": {
        "id": "x-pTPIg8_sVT"
      }
    },
    {
      "cell_type": "code",
      "source": [
        "%%time\n",
        "def create_report(client, research_questions):\n",
        "    \"\"\"\n",
        "    Create a research report by generating responses to a list of research questions.\n",
        "\n",
        "    Args:\n",
        "        client (QdrantClient): An instance of the Qdrant client.\n",
        "        research_questions (list of str): A list of research questions to create the report for.\n",
        "\n",
        "    Returns:\n",
        "        list: A list of responses generated for each research question.\n",
        "    \"\"\"\n",
        "    response = []\n",
        "    display(to_markdown(\"# Your Research Report\"))\n",
        "    for question in research_questions:\n",
        "      context = query_index(client, \"your_collection_name\", question)\n",
        "      prompt = generate_report_prompt(question, context[:31000*4])\n",
        "      response.append(ask_gemini(prompt, GEMINI_API_KEY))\n",
        "      #response.append(ask_gemini(\"Write an detailed article about the question: {{\" + question + \"}} given the context from scraped: {{\" + context+ \"}}\",GEMINI_API_KEY))\n",
        "      #to_markdown(response)\n",
        "    return response\n",
        "\n",
        "response = create_report(client, research_questions)"
      ],
      "metadata": {
        "colab": {
          "base_uri": "https://localhost:8080/",
          "height": 1000
        },
        "id": "B5z3T0Q1Ve0q",
        "outputId": "ec2f57f0-86a5-4a83-c7aa-e60c5412dfcf"
      },
      "execution_count": 29,
      "outputs": [
        {
          "output_type": "display_data",
          "data": {
            "text/plain": [
              "<IPython.core.display.Markdown object>"
            ],
            "text/markdown": "> # Your Research Report"
          },
          "metadata": {}
        },
        {
          "output_type": "display_data",
          "data": {
            "text/plain": [
              "<IPython.core.display.Markdown object>"
            ],
            "text/markdown": "> **Industry Overview**\n> \n> **Industry:** Electric Vehicle (EV) Market\n> \n> **Size:**\n> \n> * The global EV market size was valued at USD 335.23 billion in 2023.\n> * It is projected to reach USD 1,318.09 billion by 2030, registering a CAGR of 24.1% from 2023 to 2030.\n> \n> **Growth Rate:**\n> \n> * The market is witnessing significant growth due to rising fuel prices, increasing environmental concerns, government initiatives promoting EV adoption, and technological advancements.\n> \n> **Trends:**\n> \n> * Shift towards electric mobility to reduce carbon emissions and combat climate change.\n> * Increasing demand for EVs from ride-hailing and delivery services.\n> * Growing popularity of EV subscription models and battery leasing options.\n> * Development of solid-state batteries and wireless charging technologies.\n> \n> **Key Players:**\n> \n> * BYD (China)\n> * Tesla (US)\n> * Volkswagen AG (Germany)\n> * SAIC Motors (China)\n> * Stellantis (Netherlands)\n> * Ford Motor Company (US)\n> * General Motors (US)\n> * Rivian (US)\n> * Lucid Motors (US)\n> * Nio (China)\n> \n> **Canoo's Position in the Industry**\n> \n> **About Canoo:**\n> \n> * Canoo is an American electric vehicle company headquartered in Bentonville, Arkansas.\n> * It was founded in 2017 by Stefan Krause, Ulrich Kranz, and Richard Kim.\n> * Canoo designs, develops, and manufactures electric vehicles and mobility solutions.\n> \n> **Market Share:**\n> \n> * Canoo is a relatively new entrant in the EV market compared to established players like Tesla and Volkswagen.\n> * It has a small market share but is rapidly expanding its production capacity and product offerings.\n> \n> **Growth Strategy:**\n> \n> * Canoo is focused on developing innovative and affordable EVs for urban mobility.\n> * It emphasizes modular vehicle design, subscription-based ownership models, and advanced technology features.\n> \n> **Key Partnerships:**\n> \n> * Canoo has partnered with Hyundai to co-develop a new electric vehicle platform.\n> * It has also secured a deal with Walmart to supply 4,500 electric delivery vehicles.\n> \n> **Financial Performance:**\n> \n> * Canoo went public in 2020 through a merger with Hennessy Capital Acquisition Corp. IV.\n> * As of December 31, 2022, the company had total assets of $438.8 million and a net loss of $487.4 million.\n> \n> **Challenges:**\n> \n> * Canoo faces intense competition from established automakers and well-funded EV startups.\n> * The company has experienced production delays and supply chain issues.\n> * There is still uncertainty surrounding the adoption rate of EVs and the regulatory landscape for autonomous vehicles.\n> \n> **Opportunities:**\n> \n> * The EV market is rapidly growing, creating significant opportunities for new entrants.\n> * Canoo's modular vehicle design and subscription-based ownership models are differentiated offerings that could appeal to consumers.\n> * The company's partnerships with Hyundai and Walmart could provide a strong foundation for future growth.\n> \n> **Conclusion**\n> \n> The EV market is poised for significant growth in the coming years, driven by environmental concerns, government support, and technological advancements. Canoo is a promising player in this market with its innovative vehicle designs, subscription-based ownership models, and strategic partnerships. While the company faces challenges, it has the potential to capture a significant market share and become a major player in the EV industry."
          },
          "metadata": {}
        },
        {
          "output_type": "display_data",
          "data": {
            "text/plain": [
              "<IPython.core.display.Markdown object>"
            ],
            "text/markdown": "> **Analysis of Canoo EV's Main Attributes**\n> \n> **Company Overview**\n> \n> Canoo is a Los Angeles-based electric vehicle (EV) company founded in 2017 by Stefan Krause, Ulrich Kranz, and Richard Kim. The company's mission is to bring EVs to everyone by developing affordable, sustainable, and stylish vehicles. Canoo has a team of experienced engineers and designers who have worked on some of the most iconic vehicles in the world, including the BMW i3 and the Faraday Future FF91.\n> \n> **Market Share**\n> \n> Canoo is a relatively new entrant to the EV market, but the company has quickly gained attention for its innovative design and affordable pricing. In 2022, Canoo had a market share of approximately 0.1% in the global EV market. The company's market share is expected to grow significantly in the coming years as it ramps up production of its vehicles.\n> \n> **Products or Services Offered**\n> \n> Canoo currently offers two models of EVs: the Lifestyle Vehicle and the Multi-Purpose Delivery Vehicle (MPDV). The Lifestyle Vehicle is a compact SUV with a starting price of $34,750. The MPDV is a commercial vehicle designed for businesses and fleets. It has a starting price of $39,950.\n> \n> Canoo's vehicles are unique in that they are built on a modular platform that allows for a variety of configurations. This platform can be used to create vehicles of different sizes and shapes, including sedans, coupes, and pickup trucks.\n> \n> **Pricing Strategies**\n> \n> Canoo's pricing strategies are designed to make its vehicles affordable for a wide range of consumers. The company offers a variety of financing options, including leases and loans. Canoo also offers a subscription service that allows customers to pay a monthly fee for access to a vehicle.\n> \n> **Marketing Efforts**\n> \n> Canoo has a strong marketing presence online and in print. The company has also partnered with a number of influencers and celebrities to promote its vehicles. Canoo's marketing efforts have been successful in generating interest in the company and its vehicles.\n> \n> **Conclusion**\n> \n> Canoo is a promising new entrant to the EV market. The company's innovative design, affordable pricing, and strong marketing efforts have helped it to quickly gain attention. Canoo is well-positioned to become a major player in the EV market in the coming years.\n> \n> **Additional Information**\n> \n> * Canoo has raised over $500 million in funding from investors, including Hyundai Motor Group and BlackRock.\n> * Canoo is planning to begin production of its vehicles in 2023.\n> * Canoo has plans to expand its product line to include a variety of different vehicle types, including sedans, coupes, and pickup trucks.\n> * Canoo is committed to sustainability and uses recycled materials in its vehicles.\n> * Canoo has a strong team of experienced engineers and designers.\n> * Canoo has a dedicated customer service team.\n> * Canoo offers a variety of financing options, including leases and loans.\n> * Canoo offers a subscription service that allows customers to pay a monthly fee for access to a vehicle."
          },
          "metadata": {}
        },
        {
          "output_type": "display_data",
          "data": {
            "text/plain": [
              "<IPython.core.display.Markdown object>"
            ],
            "text/markdown": "> **Key Trends in the Electric Vehicle (EV) Market**\n> \n> **Introduction**\n> The electric vehicle (EV) market is rapidly evolving as consumers become more environmentally conscious and governments implement policies to reduce carbon emissions. This report identifies key trends shaping the EV market, including changes in consumer behavior, technological advancements, and shifts in the competitive landscape.\n> \n> **Changes in Consumer Behavior**\n> \n> * **Increased Environmental Awareness:** Consumers are increasingly aware of the environmental impact of gasoline-powered vehicles and are seeking sustainable alternatives. EVs emit zero tailpipe emissions, making them a more environmentally friendly option.\n> * **Falling Costs:** EV prices have been steadily declining in recent years, making them more affordable for a wider range of consumers. Government incentives, such as tax credits and rebates, further reduce the cost of ownership.\n> * **Improved Performance:** EVs have made significant advancements in performance, including increased range, faster charging times, and improved acceleration. These improvements address common concerns about the practicality of EVs.\n> * **Changing Lifestyle:** The rise of ride-sharing and car-sharing services has reduced the need for personal vehicle ownership. EVs are well-suited for urban environments with short commutes and limited parking availability.\n> \n> **Technological Advancements**\n> \n> * **Battery Technology:** Battery technology is a critical factor in EV performance. Advances in battery chemistry and design have increased energy density, improved range, and reduced charging times.\n> * **Charging Infrastructure:** The expansion of EV charging infrastructure, including public charging stations and home charging units, makes it easier for consumers to charge their vehicles. Faster charging technologies further reduce the inconvenience of charging.\n> * **Autonomous Driving:** Autonomous driving technologies, such as lane keeping assist and adaptive cruise control, enhance the driving experience and safety of EVs.\n> * **Vehicle-to-Grid Technology:** EVs can store energy and release it back to the grid during peak demand periods. This technology provides benefits to both consumers and utilities.\n> \n> **Shifts in the Competitive Landscape**\n> \n> * **Traditional Automakers:** Traditional automakers, such as Ford, General Motors, and Volkswagen, are investing heavily in EV development to compete with Tesla and other EV startups.\n> * **EV Startups:** EV startups, such as Rivian, Lucid, and Fisker, are entering the market with innovative vehicle designs and features. They are challenging established automakers with their focus on sustainability and technology.\n> * **Technology Companies:** Technology companies, such as Apple and Google, are also developing EVs and investing in the EV ecosystem. They bring their expertise in software, artificial intelligence, and user experience.\n> * **Global Expansion:** The EV market is expanding globally, with growth in China, Europe, and other regions. This is driven by government policies, consumer demand, and the availability of local manufacturing.\n> \n> **Market Outlook**\n> The EV market is expected to continue its rapid growth in the coming years. According to the International Energy Agency (IEA), global EV sales reached 6.6 million in 2021 and are projected to exceed 30 million by 2030. This growth will be driven by the aforementioned trends, including increasing consumer adoption, technological advancements, and government support.\n> \n> **Conclusion**\n> \n> The EV market is undergoing a transformative shift. Changes in consumer behavior, technological advancements, and shifts in the competitive landscape are shaping the future of the industry. As EVs become more affordable, practical, and environmentally friendly, they are poised to play an increasingly significant role in the global transportation sector."
          },
          "metadata": {}
        },
        {
          "output_type": "display_data",
          "data": {
            "text/plain": [
              "<IPython.core.display.Markdown object>"
            ],
            "text/markdown": "> **Canoo: Financial Performance Analysis**\n> \n> **Introduction**\n> Canoo is a high-tech electric vehicle (EV) company that designs, develops, and manufactures EVs and provides mobility solutions. The company was founded in 2017 and is headquartered in Torrance, California. Canoo's mission is to \"bring EVs to Everyone\" by offering affordable, sustainable, and innovative vehicles.\n> \n> **Revenue**\n> Canoo's revenue has grown significantly in recent years. In 2023, the company reported revenue of $24.3 million, a 43.5% increase from the previous year. This growth was primarily driven by increased sales of the company's Lifestyle Delivery Vehicle (LDV).\n> \n> **Profit Margins**\n> Canoo's profit margins are still negative, as the company is in the early stages of its development. In 2023, the company reported a gross profit margin of -68.4% and a net loss of $235.9 million. However, the company's gross profit margin has improved significantly in recent quarters, indicating that it is making progress towards profitability.\n> \n> **Return on Investment (ROI)**\n> Canoo's ROI is currently negative, as the company has not yet achieved profitability. However, the company's long-term ROI potential is significant. Canoo has a strong product portfolio, a growing customer base, and a number of strategic partnerships. As the EV market continues to grow, Canoo is well-positioned to generate significant revenue and profits.\n> \n> **Expense Structure**\n> Canoo's expense structure is primarily driven by research and development (R&D), sales and marketing, and general and administrative (G&A) expenses. In 2023, the company reported R&D expenses of $92.5 million, sales and marketing expenses of $24.1 million, and G&A expenses of $119.3 million. Canoo's R&D expenses are expected to remain high in the near term, as the company continues to invest in the development of new products and technologies. However, the company's sales and marketing and G&A expenses are expected to decline as a percentage of revenue as the company scales up its operations.\n> \n> **Financial Outlook**\n> Canoo expects to continue to grow its revenue and improve its profit margins in the coming years. The company is targeting revenue of $1.7 billion in 2024 and $5.0 billion in 2025. Canoo also expects to achieve profitability in 2024.\n> \n> **Key Risks**\n> Canoo faces a number of risks, including:\n> \n> * **Competition:** The EV market is becoming increasingly competitive, with a number of established automakers and startups entering the market. Canoo will need to differentiate its products and services in order to compete successfully.\n> * **Technology:** The EV market is rapidly evolving, with new technologies emerging all the time. Canoo will need to stay abreast of the latest technologies in order to remain competitive.\n> * **Supply Chain:** The EV supply chain is complex and global. Canoo will need to manage its supply chain effectively in order to avoid disruptions.\n> * **Regulatory:** The EV market is subject to a number of regulations. Canoo will need to comply with these regulations in order to operate its business.\n> \n> **Conclusion**\n> Canoo is a high-tech EV company with a strong product portfolio, a growing customer base, and a number of strategic partnerships. The company is well-positioned to benefit from the growing EV market. However, Canoo faces a number of risks, including competition, technology, supply chain, and regulatory risks.\n> \n> **Financial Performance**\n> | Metric | 2022 | 2023 |\n> |---|---|---|\n> | Revenue | $17.0 million | $24.3 million |\n> | Gross profit | -$38.0 million | -$16.7 million |\n> | Gross margin | -222.4% | -68.4% |\n> | Net income (loss) | -$305.7 million | -$235.9 million |\n> | Net margin | -1,798.2% | -970.8% |\n> | EBITDA | -$49.2 million | -$37.1 million |\n> | Adjusted EBITDA | -$38.0 million | -$16.7 million |\n> | Total assets | $369.9 million | $455.6 million |\n> | Total liabilities | $308.6 million | $335.1 million |\n> | Shareholders' equity | $61.3 million | $120.5 million |\n> \n> **Expense Structure**\n> | Category | 2022 | 2023 |\n> |---|---|---|\n> | Research and development | $92.5 million | $73.5 million |\n> | Sales and marketing | $24.1 million | $30.7 million |\n> | General and administrative | $119.3 million | $131.7 million |\n> \n> **Key Financials**\n> | Metric | Value |\n> |---|---|\n> | Market capitalization | $1.2 billion |\n> | Enterprise value | $1.1 billion |\n> | Price-to-sales ratio | 49.5x |\n> | Price-to-book ratio | 9.9x |\n> | EV/EBITDA ratio | -23.6x |\n> | EV/Sales ratio | 45.1x |\n> \n> **Disclaimer**\n> The information contained in this report is for informational purposes only and should not be construed as investment advice. Please consult with a financial advisor before making any investment decisions."
          },
          "metadata": {}
        },
        {
          "output_type": "stream",
          "name": "stdout",
          "text": [
            "CPU times: user 1.18 s, sys: 468 ms, total: 1.65 s\n",
            "Wall time: 1min 13s\n"
          ]
        }
      ]
    },
    {
      "cell_type": "code",
      "source": [
        "with open(\"generated_report.md\", 'w') as report:\n",
        "  report.write(\"\".join(response))"
      ],
      "metadata": {
        "id": "k3TZkW9NCZXc"
      },
      "execution_count": 32,
      "outputs": []
    },
    {
      "cell_type": "code",
      "source": [
        "with open(\"generated_report.md\", 'w') as report:\n",
        "  report.write(\"\".join(response))\n",
        "\n",
        "end_time = time.time()\n",
        "runtime = end_time - start_time\n",
        "\n",
        "print(f\"Notebook Runtime is {int(runtime // 60)} minutes and {int(runtime % 60)} seconds\")"
      ],
      "metadata": {
        "colab": {
          "base_uri": "https://localhost:8080/"
        },
        "id": "vohtZC-QJ82n",
        "outputId": "5d135ed2-3ad2-4414-f524-49d2342560d3"
      },
      "execution_count": 27,
      "outputs": [
        {
          "output_type": "stream",
          "name": "stdout",
          "text": [
            "Notebook Runtime is 10 minutes and 32 seconds\n"
          ]
        }
      ]
    },
    {
      "cell_type": "markdown",
      "source": [
        "# FINAL REPORT IN MARKDOWN FORMAT"
      ],
      "metadata": {
        "id": "JsUdgDBXL62h"
      }
    },
    {
      "cell_type": "markdown",
      "source": [
        "**Industry Overview**\n",
        "\n",
        "**Industry:** Electric Vehicle (EV) Market\n",
        "\n",
        "**Size:**\n",
        "\n",
        "* The global EV market size was valued at USD 335.23 billion in 2023.\n",
        "* It is projected to reach USD 1,318.09 billion by 2030, registering a CAGR of 24.1% from 2023 to 2030.\n",
        "\n",
        "**Growth Rate:**\n",
        "\n",
        "* The market is witnessing significant growth due to rising fuel prices, increasing environmental concerns, government initiatives promoting EV adoption, and technological advancements.\n",
        "\n",
        "**Trends:**\n",
        "\n",
        "* Shift towards electric mobility to reduce carbon emissions and combat climate change.\n",
        "* Increasing demand for EVs from ride-hailing and delivery services.\n",
        "* Growing popularity of EV subscription models and battery leasing options.\n",
        "* Development of solid-state batteries and wireless charging technologies.\n",
        "\n",
        "**Key Players:**\n",
        "\n",
        "* BYD (China)\n",
        "* Tesla (US)\n",
        "* Volkswagen AG (Germany)\n",
        "* SAIC Motors (China)\n",
        "* Stellantis (Netherlands)\n",
        "* Ford Motor Company (US)\n",
        "* General Motors (US)\n",
        "* Rivian (US)\n",
        "* Lucid Motors (US)\n",
        "* Nio (China)\n",
        "\n",
        "**Canoo's Position in the Industry**\n",
        "\n",
        "**About Canoo:**\n",
        "\n",
        "* Canoo is an American electric vehicle company headquartered in Bentonville, Arkansas.\n",
        "* It was founded in 2017 by Stefan Krause, Ulrich Kranz, and Richard Kim.\n",
        "* Canoo designs, develops, and manufactures electric vehicles and mobility solutions.\n",
        "\n",
        "**Market Share:**\n",
        "\n",
        "* Canoo is a relatively new entrant in the EV market compared to established players like Tesla and Volkswagen.\n",
        "* It has a small market share but is rapidly expanding its production capacity and product offerings.\n",
        "\n",
        "**Growth Strategy:**\n",
        "\n",
        "* Canoo is focused on developing innovative and affordable EVs for urban mobility.\n",
        "* It emphasizes modular vehicle design, subscription-based ownership models, and advanced technology features.\n",
        "\n",
        "**Key Partnerships:**\n",
        "\n",
        "* Canoo has partnered with Hyundai to co-develop a new electric vehicle platform.\n",
        "* It has also secured a deal with Walmart to supply 4,500 electric delivery vehicles.\n",
        "\n",
        "**Financial Performance:**\n",
        "\n",
        "* Canoo went public in 2020 through a merger with Hennessy Capital Acquisition Corp. IV.\n",
        "* As of December 31, 2022, the company had total assets of $438.8 million and a net loss of $487.4 million.\n",
        "\n",
        "**Challenges:**\n",
        "\n",
        "* Canoo faces intense competition from established automakers and well-funded EV startups.\n",
        "* The company has experienced production delays and supply chain issues.\n",
        "* There is still uncertainty surrounding the adoption rate of EVs and the regulatory landscape for autonomous vehicles.\n",
        "\n",
        "**Opportunities:**\n",
        "\n",
        "* The EV market is rapidly growing, creating significant opportunities for new entrants.\n",
        "* Canoo's modular vehicle design and subscription-based ownership models are differentiated offerings that could appeal to consumers.\n",
        "* The company's partnerships with Hyundai and Walmart could provide a strong foundation for future growth.\n",
        "\n",
        "**Conclusion**\n",
        "\n",
        "The EV market is poised for significant growth in the coming years, driven by environmental concerns, government support, and technological advancements. Canoo is a promising player in this market with its innovative vehicle designs, subscription-based ownership models, and strategic partnerships. While the company faces challenges, it has the potential to capture a significant market share and become a major player in the EV industry.**Analysis of Canoo EV's Main Attributes**\n",
        "\n",
        "**Company Overview**\n",
        "\n",
        "Canoo is a Los Angeles-based electric vehicle (EV) company founded in 2017 by Stefan Krause, Ulrich Kranz, and Richard Kim. The company's mission is to bring EVs to everyone by developing affordable, sustainable, and stylish vehicles. Canoo has a team of experienced engineers and designers who have worked on some of the most iconic vehicles in the world, including the BMW i3 and the Faraday Future FF91.\n",
        "\n",
        "**Market Share**\n",
        "\n",
        "Canoo is a relatively new entrant to the EV market, but the company has quickly gained attention for its innovative design and affordable pricing. In 2022, Canoo had a market share of approximately 0.1% in the global EV market. The company's market share is expected to grow significantly in the coming years as it ramps up production of its vehicles.\n",
        "\n",
        "**Products or Services Offered**\n",
        "\n",
        "Canoo currently offers two models of EVs: the Lifestyle Vehicle and the Multi-Purpose Delivery Vehicle MPDV. The Lifestyle Vehicle is a compact SUV with a starting price of \\$34,750. The MPDV is a commercial vehicle designed for businesses and fleets. It has a starting price of \\$39,950.\n",
        "\n",
        "Canoo's vehicles are unique in that they are built on a modular platform that allows for a variety of configurations. This platform can be used to create vehicles of different sizes and shapes, including sedans, coupes, and pickup trucks.\n",
        "\n",
        "**Pricing Strategies**\n",
        "\n",
        "Canoo's pricing strategies are designed to make its vehicles affordable for a wide range of consumers. The company offers a variety of financing options, including leases and loans. Canoo also offers a subscription service that allows customers to pay a monthly fee for access to a vehicle.\n",
        "\n",
        "**Marketing Efforts**\n",
        "\n",
        "Canoo has a strong marketing presence online and in print. The company has also partnered with a number of influencers and celebrities to promote its vehicles. Canoo's marketing efforts have been successful in generating interest in the company and its vehicles.\n",
        "\n",
        "**Conclusion**\n",
        "\n",
        "Canoo is a promising new entrant to the EV market. The company's innovative design, affordable pricing, and strong marketing efforts have helped it to quickly gain attention. Canoo is well-positioned to become a major player in the EV market in the coming years.\n",
        "\n",
        "**Additional Information**\n",
        "\n",
        "* Canoo has raised over $500 million in funding from investors, including Hyundai Motor Group and BlackRock.\n",
        "* Canoo is planning to begin production of its vehicles in 2023.\n",
        "* Canoo has plans to expand its product line to include a variety of different vehicle types, including sedans, coupes, and pickup trucks.\n",
        "* Canoo is committed to sustainability and uses recycled materials in its vehicles.\n",
        "* Canoo has a strong team of experienced engineers and designers.\n",
        "* Canoo has a dedicated customer service team.\n",
        "* Canoo offers a variety of financing options, including leases and loans.\n",
        "* Canoo offers a subscription service that allows customers to pay a monthly fee for access to a vehicle.**Key Trends in the Electric Vehicle (EV) Market**\n",
        "\n",
        "**Introduction**\n",
        "The electric vehicle (EV) market is rapidly evolving as consumers become more environmentally conscious and governments implement policies to reduce carbon emissions. This report identifies key trends shaping the EV market, including changes in consumer behavior, technological advancements, and shifts in the competitive landscape.\n",
        "\n",
        "**Changes in Consumer Behavior**\n",
        "\n",
        "* **Increased Environmental Awareness:** Consumers are increasingly aware of the environmental impact of gasoline-powered vehicles and are seeking sustainable alternatives. EVs emit zero tailpipe emissions, making them a more environmentally friendly option.\n",
        "* **Falling Costs:** EV prices have been steadily declining in recent years, making them more affordable for a wider range of consumers. Government incentives, such as tax credits and rebates, further reduce the cost of ownership.\n",
        "* **Improved Performance:** EVs have made significant advancements in performance, including increased range, faster charging times, and improved acceleration. These improvements address common concerns about the practicality of EVs.\n",
        "* **Changing Lifestyle:** The rise of ride-sharing and car-sharing services has reduced the need for personal vehicle ownership. EVs are well-suited for urban environments with short commutes and limited parking availability.\n",
        "\n",
        "**Technological Advancements**\n",
        "\n",
        "* **Battery Technology:** Battery technology is a critical factor in EV performance. Advances in battery chemistry and design have increased energy density, improved range, and reduced charging times.\n",
        "* **Charging Infrastructure:** The expansion of EV charging infrastructure, including public charging stations and home charging units, makes it easier for consumers to charge their vehicles. Faster charging technologies further reduce the inconvenience of charging.\n",
        "* **Autonomous Driving:** Autonomous driving technologies, such as lane keeping assist and adaptive cruise control, enhance the driving experience and safety of EVs.\n",
        "* **Vehicle-to-Grid Technology:** EVs can store energy and release it back to the grid during peak demand periods. This technology provides benefits to both consumers and utilities.\n",
        "\n",
        "**Shifts in the Competitive Landscape**\n",
        "\n",
        "* **Traditional Automakers:** Traditional automakers, such as Ford, General Motors, and Volkswagen, are investing heavily in EV development to compete with Tesla and other EV startups.\n",
        "* **EV Startups:** EV startups, such as Rivian, Lucid, and Fisker, are entering the market with innovative vehicle designs and features. They are challenging established automakers with their focus on sustainability and technology.\n",
        "* **Technology Companies:** Technology companies, such as Apple and Google, are also developing EVs and investing in the EV ecosystem. They bring their expertise in software, artificial intelligence, and user experience.\n",
        "* **Global Expansion:** The EV market is expanding globally, with growth in China, Europe, and other regions. This is driven by government policies, consumer demand, and the availability of local manufacturing.\n",
        "\n",
        "**Market Outlook**\n",
        "The EV market is expected to continue its rapid growth in the coming years. According to the International Energy Agency IEA, global EV sales reached 6.6 million in 2021 and are projected to exceed 30 million by 2030. This growth will be driven by the aforementioned trends, including increasing consumer adoption, technological advancements, and government support.\n",
        "\n",
        "**Conclusion**\n",
        "\n",
        "The EV market is undergoing a transformative shift. Changes in consumer behavior, technological advancements, and shifts in the competitive landscape are shaping the future of the industry. As EVs become more affordable, practical, and environmentally friendly, they are poised to play an increasingly significant role in the global transportation sector.**Canoo: Financial Performance Analysis**\n",
        "\n",
        "**Introduction**\n",
        "Canoo is a high-tech electric vehicle EV company that designs, develops, and manufactures EVs and provides mobility solutions. The company was founded in 2017 and is headquartered in Torrance, California. Canoo's mission is to \"bring EVs to Everyone\" by offering affordable, sustainable, and innovative vehicles.\n",
        "\n",
        "**Revenue**\n",
        "Canoo's revenue has grown significantly in recent years. In 2023, the company reported revenue of $24.3 million, a 43.5% increase from the previous year. This growth was primarily driven by increased sales of the company's Lifestyle Delivery Vehicle LDV.\n",
        "\n",
        "**Profit Margins**\n",
        "Canoo's profit margins are still negative, as the company is in the early stages of its development. In 2023, the company reported a gross profit margin of -68.4% and a net loss of $235.9 million. However, the company's gross profit margin has improved significantly in recent quarters, indicating that it is making progress towards profitability.\n",
        "\n",
        "**Return on Investment ROI**\n",
        "Canoo's ROI is currently negative, as the company has not yet achieved profitability. However, the company's long-term ROI potential is significant. Canoo has a strong product portfolio, a growing customer base, and a number of strategic partnerships. As the EV market continues to grow, Canoo is well-positioned to generate significant revenue and profits.\n",
        "\n",
        "**Expense Structure**\n",
        "Canoo's expense structure is primarily driven by research and development R&D, sales and marketing, and general and administrative G&A expenses. In 2023, the company reported R&D expenses of $92.5 million, sales and marketing expenses of $24.1 million, and G&A expenses of $119.3 million. Canoo's R&D expenses are expected to remain high in the near term, as the company continues to invest in the development of new products and technologies. However, the company's sales and marketing and G&A expenses are expected to decline as a percentage of revenue as the company scales up its operations.\n",
        "\n",
        "**Financial Outlook**\n",
        "Canoo expects to continue to grow its revenue and improve its profit margins in the coming years. The company is targeting revenue of $1.7 billion in 2024 and $5.0 billion in 2025. Canoo also expects to achieve profitability in 2024.\n",
        "\n",
        "**Key Risks**\n",
        "Canoo faces a number of risks, including:\n",
        "\n",
        "* **Competition:** The EV market is becoming increasingly competitive, with a number of established automakers and startups entering the market. Canoo will need to differentiate its products and services in order to compete successfully.\n",
        "* **Technology:** The EV market is rapidly evolving, with new technologies emerging all the time. Canoo will need to stay abreast of the latest technologies in order to remain competitive.\n",
        "* **Supply Chain:** The EV supply chain is complex and global. Canoo will need to manage its supply chain effectively in order to avoid disruptions.\n",
        "* **Regulatory:** The EV market is subject to a number of regulations. Canoo will need to comply with these regulations in order to operate its business.\n",
        "\n",
        "**Conclusion**\n",
        "Canoo is a high-tech EV company with a strong product portfolio, a growing customer base, and a number of strategic partnerships. The company is well-positioned to benefit from the growing EV market. However, Canoo faces a number of risks, including competition, technology, supply chain, and regulatory risks.\n",
        "\n",
        "**Financial Performance**\n",
        "\n",
        "| Metric               | 2022           | 2023           |\n",
        "|----------------------|----------------|----------------|\n",
        "| Revenue              | $17.0 million  | $24.3 million  |\n",
        "| Gross profit         | -$38.0 million | -$16.7 million |\n",
        "| Gross margin         | -222.4%        | -68.4%         |\n",
        "| Net income (loss)    | -$305.7 million | -$235.9 million |\n",
        "| Net margin           | -1,798.2%      | -970.8%        |\n",
        "| EBITDA               | -$49.2 million | -$37.1 million |\n",
        "| Adjusted EBITDA      | -$38.0 million | -$16.7 million |\n",
        "| Total assets         | $369.9 million | $455.6 million |\n",
        "| Total liabilities    | $308.6 million | $335.1 million |\n",
        "| Shareholders' equity | $61.3 million  | $120.5 million |\n",
        "\n",
        "**Expense Structure**\n",
        "\n",
        "| Category                | 2022           | 2023           |\n",
        "|-------------------------|----------------|----------------|\n",
        "| Research and development | $92.5 million  | $73.5 million  |\n",
        "| Sales and marketing     | $24.1 million  | $30.7 million  |\n",
        "| General and administrative | $119.3 million | $131.7 million |\n",
        "\n",
        "**Key Financials**\n",
        "\n",
        "| Metric               | Value         |\n",
        "|----------------------|---------------|\n",
        "| Market capitalization | $1.2 billion |\n",
        "| Enterprise value     | $1.1 billion |\n",
        "| Price-to-sales ratio | 49.5x         |\n",
        "| Price-to-book ratio  | 9.9x          |\n",
        "| EV/EBITDA ratio     | -23.6x         |\n",
        "| EV/Sales ratio       | 45.1x         |\n",
        "\n",
        "\n",
        "**Disclaimer**\n",
        "The information contained in this report is for informational purposes only and should not be construed as investment advice. Please consult with a financial advisor before making any investment decisions."
      ],
      "metadata": {
        "id": "YtuWEayxKQgG"
      }
    }
  ],
  "metadata": {
    "colab": {
      "provenance": [],
      "authorship_tag": "ABX9TyOCyKCGMgTYHsdZZFkgSwjd",
      "include_colab_link": true
    },
    "kernelspec": {
      "display_name": "Python 3",
      "name": "python3"
    },
    "language_info": {
      "name": "python"
    }
  },
  "nbformat": 4,
  "nbformat_minor": 0
}